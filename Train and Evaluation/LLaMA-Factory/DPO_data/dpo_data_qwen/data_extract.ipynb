{
 "cells": [
  {
   "cell_type": "code",
   "execution_count": 1,
   "id": "e34c5859-7835-489c-8690-86b0cf0eabb1",
   "metadata": {},
   "outputs": [],
   "source": [
    "import json\n",
    "with open('dpo_train_qwen.json','r') as f:\n",
    "    datas=json.load(f)"
   ]
  },
  {
   "cell_type": "code",
   "execution_count": 2,
   "id": "b063cc75-7cf1-4f80-a9f5-ec97fef4a2a8",
   "metadata": {},
   "outputs": [
    {
     "name": "stdout",
     "output_type": "stream",
     "text": [
      "{'conversations': [{'from': 'system', 'value': 'You are a sophisticated AI expert in graph theory and algorithms. Solve the following graph problem by writing code without any explanation.\\n### Instruction:\\n'}, {'from': 'human', 'value': 'Given an undirected graph as follows:\\nNode 1 is connected to nodes 5, 9.\\nNode 5 is connected to nodes 1, 4.\\nNode 9 is connected to node 1.\\nNode 4 is connected to nodes 5, 0, 7, 8.\\nNode 0 is connected to nodes 4, 13.\\nNode 13 is connected to nodes 0, 7.\\nNode 7 is connected to nodes 4, 13, 12.\\nNode 8 is connected to nodes 4, 6, 3.\\nNode 2 is connected to nodes 11, 10.\\nNode 11 is connected to nodes 2, 12.\\nNode 10 is connected to node 2.\\nNode 12 is connected to nodes 11, 7.\\nNode 14 is connected to node 6.\\nNode 6 is connected to nodes 14, 8.\\nNode 3 is connected to node 8.\\nWhat is the clustering coefficient of node 6?'}], 'rejected': {'from': 'gpt', 'value': 'import re\\nimport networkx as nx\\n\\ntext = \"\"\"Node 1 is connected to nodes 5, 9.\\nNode 5 is connected to nodes 1, 4.\\nNode 9 is connected to node 1.\\nNode 4 is connected to nodes 5, 0, 7, 8.\\nNode 0 is connected to nodes 4, 13.\\nNode 13 is connected to nodes 0, 7.\\nNode 7 is connected to nodes 4, 13, 12.\\nNode 8 is connected to nodes 4, 6, 3.\\nNode 2 is connected to nodes 11, 10.\\nNode 11 is connected to nodes 2, 12.\\nNode 10 is connected to node 2.\\nNode 12 is connected to nodes 11, 7.\\nNode 14 is connected to node 6.\\nNode 6 is connected to nodes 14, 8.\\nNode 3 is connected to node 8.\"\"\"\\n\\n# Regular expression to extract connections\\npattern = r\\'Node (\\\\d+) is connected to nodes? ([\\\\d, ]+)\\\\.\\'\\nmatches = re.findall(pattern, text)\\n\\n# Create an undirected graph\\nG = nx.Graph()\\n\\n# Add edges to the graph\\nfor node, neighbors in matches:\\n    node = int(node)\\n    neighbors = map(int, neighbors.split(\\', \\'))\\n    for neighbor in neighbors:\\n        G.add_edge(node, neighbor)\\n\\n# Calculate clustering coefficient for node 6\\nnode1 = 6\\nprint(nx.clustering(G, node1))\\n```หลุด\\n'}, 'chosen': {'from': 'gpt', 'value': 'import re\\nimport networkx as nx\\n\\ntext = \"\"\"Node 1 is connected to nodes 5, 9.\\nNode 5 is connected to nodes 1, 4.\\nNode 9 is connected to node 1.\\nNode 4 is connected to nodes 5, 0, 7, 8.\\nNode 0 is connected to nodes 4, 13.\\nNode 13 is connected to nodes 0, 7.\\nNode 7 is connected to nodes 4, 13, 12.\\nNode 8 is connected to nodes 4, 6, 3.\\nNode 2 is connected to nodes 11, 10.\\nNode 11 is connected to nodes 2, 12.\\nNode 10 is connected to node 2.\\nNode 12 is connected to nodes 11, 7.\\nNode 14 is connected to node 6.\\nNode 6 is connected to nodes 14, 8.\\nNode 3 is connected to node 8.\"\"\"\\n\\n# Regular expression to extract connections\\npattern = r\\'Node (\\\\d+) is connected to nodes? ([\\\\d, ]+)\\\\.\\'\\nmatches = re.findall(pattern, text)\\n\\n# Create an undirected graph\\nG = nx.Graph()\\n\\n# Add edges to the graph\\nfor node, neighbors in matches:\\n    node = int(node)\\n    neighbors = map(int, neighbors.split(\\', \\'))\\n    for neighbor in neighbors:\\n        G.add_edge(node, neighbor)\\n\\n# Calculate clustering coefficient for node 6\\nnode1 = 6\\nprint(nx.clustering(G, node1))\\n\\n'}}\n"
     ]
    }
   ],
   "source": [
    "print(datas[0])"
   ]
  },
  {
   "cell_type": "code",
   "execution_count": 6,
   "id": "fa38e469-f36f-4ba9-a125-bd464ca3f8a3",
   "metadata": {},
   "outputs": [],
   "source": [
    "dpo_data=[]\n",
    "for data in datas:\n",
    "    instruction = data['conversations'][0]['value']\n",
    "    input = data['conversations'][1]['value']\n",
    "    chosen = data['chosen']['value']\n",
    "    rejected = data['rejected']['value']\n",
    "    dpo_data.append({\n",
    "        'instruction':instruction,\n",
    "        'input':input,\n",
    "        'chosen':chosen,\n",
    "        'rejected':rejected\n",
    "    })"
   ]
  },
  {
   "cell_type": "code",
   "execution_count": 7,
   "id": "ebe7b3b4-2ed3-476e-9c90-5ee983c5e321",
   "metadata": {},
   "outputs": [
    {
     "name": "stdout",
     "output_type": "stream",
     "text": [
      "3000\n"
     ]
    }
   ],
   "source": [
    "print(len(dpo_data))"
   ]
  },
  {
   "cell_type": "code",
   "execution_count": 11,
   "id": "36c1b777-9e7c-4300-92e1-bcab4fae67b7",
   "metadata": {},
   "outputs": [
    {
     "name": "stdout",
     "output_type": "stream",
     "text": [
      "{'instruction': 'You are a sophisticated AI expert in graph theory and algorithms. Solve the following graph problem by writing code without any explanation.\\n### Instruction:\\n', 'input': 'Given an undirected graph as follows:\\nNode 2 is connected to nodes 7, 8, 3, 6, 9.\\nNode 7 is connected to nodes 2, 1, 10, 12, 6.\\nNode 8 is connected to nodes 2, 5, 10, 3, 12, 0.\\nNode 3 is connected to nodes 2, 8, 6, 11, 9, 5, 4, 1.\\nNode 6 is connected to nodes 2, 7, 3, 0, 9, 10.\\nNode 9 is connected to nodes 2, 3, 4, 0, 1, 6, 10, 5, 11.\\nNode 1 is connected to nodes 7, 3, 4, 10, 9, 12.\\nNode 10 is connected to nodes 7, 8, 4, 1, 6, 5, 12, 9.\\nNode 12 is connected to nodes 7, 8, 1, 10.\\nNode 5 is connected to nodes 8, 3, 10, 9.\\nNode 0 is connected to nodes 8, 4, 9, 6.\\nNode 11 is connected to nodes 3, 9.\\nNode 4 is connected to nodes 3, 0, 1, 10, 9.\\nWhat is the clustering coefficient of node 8?', 'chosen': 'import re\\nimport networkx as nx\\n\\ntext = \"\"\"Node 2 is connected to nodes 7, 8, 3, 6, 9.\\nNode 7 is connected to nodes 2, 1, 10, 12, 6.\\nNode 8 is connected to nodes 2, 5, 10, 3, 12, 0.\\nNode 3 is connected to nodes 2, 8, 6, 11, 9, 5, 4, 1.\\nNode 6 is connected to nodes 2, 7, 3, 0, 9, 10.\\nNode 9 is connected to nodes 2, 3, 4, 0, 1, 6, 10, 5, 11.\\nNode 1 is connected to nodes 7, 3, 4, 10, 9, 12.\\nNode 10 is connected to nodes 7, 8, 4, 1, 6, 5, 12, 9.\\nNode 12 is connected to nodes 7, 8, 1, 10.\\nNode 5 is connected to nodes 8, 3, 10, 9.\\nNode 0 is connected to nodes 8, 4, 9, 6.\\nNode 11 is connected to nodes 3, 9.\\nNode 4 is connected to nodes 3, 0, 1, 10, 9.\"\"\"\\n\\n# Regular expression to extract connections\\npattern = r\\'Node (\\\\d+) is connected to nodes? ([\\\\d, ]+)\\\\.\\'\\nmatches = re.findall(pattern, text)\\n\\n# Create an undirected graph\\nG = nx.Graph()\\n\\n# Add edges to the graph\\nfor node, neighbors in matches:\\n    node = int(node)\\n    neighbors = map(int, neighbors.split(\\', \\'))\\n    for neighbor in neighbors:\\n        G.add_edge(node, neighbor)\\n\\n# Calculate the clustering coefficient for node 8\\nnode1 = 8\\nprint(nx.clustering(G, node1))\\n\\n', 'rejected': 'import re\\nimport networkx as nx\\n\\ntext = \"\"\"Node 2 is connected to nodes 7, 8, 3, 6, 9.\\nNode 7 is connected to nodes 2, 1, 10, 12, 6.\\nNode 8 is connected to nodes 2, 5, 10, 3, 12, 0.\\nNode 3 is connected to nodes 2, 8, 6, 11, 9, 5, 4, 1.\\nNode 6 is connected to nodes 2, 7, 3, 0, 9, 10.\\nNode 9 is connected to nodes 2, 3, 4, 0, 1, 6, 10, 5, 11.\\nNode 1 is connected to nodes 7, 3, 4, 10, 9, 12.\\nNode 10 is connected to nodes 7, 8, 4, 1, 6, 5, 12, 9.\\nNode 12 is connected to nodes 7, 8, 1, 10.\\nNode 5 is connected to nodes 8, 3, 10, 9.\\nNode 0 is connected to nodes 8, 4, 9, 6.\\nNode 11 is connected to nodes 3, 9.\\nNode 4 is connected to nodes 3, 0, 1, 10, 9.\"\"\"\\n\\n# Regular expression to extract connections\\npattern = r\\'Node (\\\\d+) is connected to nodes? ([\\\\d, ]+)\\\\.\\'\\nmatches = re.findall(pattern, text)\\n\\n# Create an undirected graph\\nG = nx.Graph()\\n\\n# Add edges to the graph\\nfor node, neighbors in matches:\\n    node = int(node)\\n    neighbors = map(int, neighbors.split(\\', \\'))\\n    for neighbor in neighbors:\\n        G.add_edge(node, neighbor)\\n\\n# Calculate the clustering coefficient of node 8\\nnode1 = 8\\nprint(nx.clustering(G, node1))\\n```สู่\\n'}\n"
     ]
    }
   ],
   "source": [
    "print(dpo_data[100])"
   ]
  },
  {
   "cell_type": "code",
   "execution_count": null,
   "id": "7f75d36c-3a67-4add-825b-0e287a318d5b",
   "metadata": {},
   "outputs": [],
   "source": [
    "with open('dpo_train_qwen_novel.json','r') as f:\n",
    "    datas=json.load(f)"
   ]
  }
 ],
 "metadata": {
  "kernelspec": {
   "display_name": "Python 3 (ipykernel)",
   "language": "python",
   "name": "python3"
  },
  "language_info": {
   "codemirror_mode": {
    "name": "ipython",
    "version": 3
   },
   "file_extension": ".py",
   "mimetype": "text/x-python",
   "name": "python",
   "nbconvert_exporter": "python",
   "pygments_lexer": "ipython3",
   "version": "3.12.4"
  }
 },
 "nbformat": 4,
 "nbformat_minor": 5
}
