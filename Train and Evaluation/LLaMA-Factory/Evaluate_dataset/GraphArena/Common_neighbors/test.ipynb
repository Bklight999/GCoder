{
 "cells": [
  {
   "cell_type": "code",
   "execution_count": 1,
   "metadata": {},
   "outputs": [],
   "source": [
    "import json\n",
    "task = 'Common_neighbors'\n",
    "filename = task+'_result_1shot.json'\n",
    "with open(filename, 'r', encoding='utf-8') as f:\n",
    "    datas=json.load(f)"
   ]
  },
  {
   "cell_type": "code",
   "execution_count": 2,
   "metadata": {},
   "outputs": [],
   "source": [
    "filename1 = task+'_test.json'\n",
    "with open(filename1, 'r', encoding='utf-8') as f:\n",
    "    gt=json.load(f)"
   ]
  },
  {
   "cell_type": "code",
   "execution_count": 3,
   "metadata": {},
   "outputs": [
    {
     "name": "stdout",
     "output_type": "stream",
     "text": [
      "500\n",
      "500\n",
      "{'index': 0, 'input_prompt': 'Your task is to find the common neighbors of two nodes in an undirected academic network. In this network, nodes represent authors and edges represent research collaborations.\\n\\n**Problem to Solve**\\n\\n- Authors in the network: Manfred Schmidt-Schauss, David Sabel, Markus Lohrey, Sebastian Maneth, Conrad Rau, Manfred Schmidt-Schauß, Jordi Levy\\n- Research collaborations between these authors: Manfred Schmidt-Schauss and Jordi Levy, Manfred Schmidt-Schauss and David Sabel, Manfred Schmidt-Schauss and Manfred Schmidt-Schauß, Manfred Schmidt-Schauss and Markus Lohrey, Manfred Schmidt-Schauss and Sebastian Maneth, Manfred Schmidt-Schauss and Conrad Rau, David Sabel and Conrad Rau, David Sabel and Manfred Schmidt-Schauß, Markus Lohrey and Manfred Schmidt-Schauß, Markus Lohrey and Jordi Levy, Markus Lohrey and Sebastian Maneth, Sebastian Maneth and Manfred Schmidt-Schauß, Sebastian Maneth and Jordi Levy, Conrad Rau and Manfred Schmidt-Schauß, Manfred Schmidt-Schauß and Jordi Levy.\\nPlease identify the common neighbors of Manfred Schmidt-Schauss and David Sabel in this network.\\nYou only need to output the number of the common neighbors. ', 'answer': 2}\n"
     ]
    }
   ],
   "source": [
    "print(len(datas))\n",
    "print(len(gt))\n",
    "print(gt[0])"
   ]
  },
  {
   "cell_type": "code",
   "execution_count": 4,
   "metadata": {},
   "outputs": [],
   "source": [
    "import re\n",
    "import io\n",
    "import sys\n"
   ]
  },
  {
   "cell_type": "code",
   "execution_count": 5,
   "metadata": {},
   "outputs": [
    {
     "name": "stdout",
     "output_type": "stream",
     "text": [
      "Your task is to find the common neighbors of two nodes in an undirected academic network. In this network, nodes represent authors and edges represent research collaborations.\n",
      "\n",
      "**Problem to Solve**\n",
      "\n",
      "- Authors in the network: Jolie M. Martin, Varun Dutt, Cleotilde Gonzalez, Christian Lebiere\n",
      "- Research collaborations between these authors: Jolie M. Martin and Cleotilde Gonzalez, Jolie M. Martin and Christian Lebiere, Varun Dutt and Cleotilde Gonzalez, Varun Dutt and Christian Lebiere, Cleotilde Gonzalez and Christian Lebiere.\n",
      "Please identify the common neighbors of Jolie M. Martin and Varun Dutt in this network.\n",
      "You only need to output the number of the common neighbors. \n",
      "1. Identify the nodes in the graph: Jolie M. Martin, Varun Dutt, Cleotilde Gonzalez, Christian Lebiere.\n",
      "2. Identify the edges in the graph: Jolie M. Martin-Cleotilde Gonzalez, Jolie M. Martin-Christian Lebiere, Varun Dutt-Cleotilde Gonzalez, Varun Dutt-Christian Lebiere, Cleotilde Gonzalez-Christian Lebiere.\n",
      "3. Convert the edges to an edge list: [('Jolie M. Martin', 'Cleotilde Gonzalez'), ('Jolie M. Martin', 'Christian Lebiere'), ('Varun Dutt', 'Cleotilde Gonzalez'), ('Varun Dutt', 'Christian Lebiere'), ('Cleotilde Gonzalez', 'Christian Lebiere')]\n",
      "\n",
      "[Code]:\n",
      "```python\n",
      "import networkx as nx\n",
      "\n",
      "edge_list = [('Jolie M. Martin', 'Cleotilde Gonzalez'), ('Jolie M. Martin', 'Christian Lebiere'), ('Varun Dutt', 'Cleotilde Gonzalez'), ('Varun Dutt', 'Christian Lebiere'), ('Cleotilde Gonzalez', 'Christian Lebiere')]\n",
      "\n",
      "G = nx.Graph(edge_list)\n",
      "print(len(list(nx.common_neighbors(G, 'Jolie M. Martin', 'Varun Dutt'))))\n",
      "```\n",
      "2\n"
     ]
    }
   ],
   "source": [
    "print(gt[16]['input_prompt'])\n",
    "print(datas[16]['code'])\n",
    "print(gt[16]['answer'])\n",
    "\n",
    "# code = re.sub(r'^```python\\n|```$', '', datas[5]['code'], flags=re.MULTILINE)\n",
    "# code = code.split('[Code]:')[1]\n",
    "# print(code)"
   ]
  },
  {
   "cell_type": "code",
   "execution_count": 6,
   "metadata": {},
   "outputs": [
    {
     "name": "stdout",
     "output_type": "stream",
     "text": [
      "2\n"
     ]
    }
   ],
   "source": [
    "    import networkx as nx\n",
    "\n",
    "    edge_list = [('Jolie M. Martin', 'Cleotilde Gonzalez'), ('Jolie M. Martin', 'Christian Lebiere'), ('Varun Dutt', 'Cleotilde Gonzalez'), ('Varun Dutt', 'Christian Lebiere'), ('Cleotilde Gonzalez', 'Christian Lebiere')]\n",
    "    G = nx.Graph(edge_list)\n",
    "    print(len(list(nx.common_neighbors(G, 'Jolie M. Martin', 'Varun Dutt'))))"
   ]
  },
  {
   "cell_type": "code",
   "execution_count": 7,
   "metadata": {},
   "outputs": [],
   "source": [
    "error_cnt = 0\n",
    "error_cnt_code = 0\n",
    "correct_cnt = 0\n",
    "for i, data in enumerate(datas):\n",
    "    text = data['code']\n",
    "    #code = text\n",
    "    code = re.sub(r'^```python\\n|```$', '', text, flags=re.MULTILINE)\n",
    "    \n",
    "    if '[Code]:' in code:\n",
    "        code = code.split('[Code]:')[1]\n",
    "    elif '**Code:**' in code:\n",
    "        code = code.split('**Code:**')[1]\n",
    "    elif '### Code' in code:\n",
    "        code = code.split('### Code')[1]\n",
    "    elif '**Code**' in code:\n",
    "        code = code.split('**Code**')[1]   \n",
    "    elif '**Code**:' in code:\n",
    "        code = code.split('**Code**:')[1] \n",
    "    elif '### Solution' in code:\n",
    "        code = code.split('### Solution')[1] \n",
    "    else:\n",
    "        error_cnt = error_cnt + 1\n",
    "        print(code)\n",
    "        continue\n",
    "\n",
    "    ans = gt[i]['answer']\n",
    "\n",
    "    # 创建一个 StringIO 对象来捕获输出\n",
    "    output = io.StringIO()\n",
    "\n",
    "    # 重定向 sys.stdout\n",
    "    old_stdout = sys.stdout\n",
    "    sys.stdout = output\n",
    "\n",
    "    try:\n",
    "        exec(code, globals(), globals())\n",
    "    except:\n",
    "        sys.stdout = old_stdout\n",
    "        #print(code)\n",
    "        error_cnt_code = error_cnt_code + 1\n",
    "        continue\n",
    "    finally:\n",
    "        sys.stdout = old_stdout\n",
    "    \n",
    "\n",
    "    # 获取输出内容\n",
    "    output_content = output.getvalue()\n",
    "    output_content = str(output_content).strip()\n",
    "    # print(\"Captured Output:\")\n",
    "    #print(output_content)\n",
    "    \n",
    "    \n",
    "    # print(f'llm={output_content} gt={ans}')\n",
    "    try:\n",
    "        if int(output_content) == int(ans):\n",
    "            correct_cnt = correct_cnt + 1\n",
    "        else:\n",
    "            pass\n",
    "            #print(code)\n",
    "            #print(output_content,ans)\n",
    "    except:\n",
    "        print(\"**************\")\n",
    "        print(i)\n",
    "        #print(output_content,ans)"
   ]
  },
  {
   "cell_type": "code",
   "execution_count": 8,
   "metadata": {},
   "outputs": [
    {
     "name": "stdout",
     "output_type": "stream",
     "text": [
      "0\n",
      "438\n",
      "60\n"
     ]
    }
   ],
   "source": [
    "print(error_cnt)\n",
    "print(correct_cnt)\n",
    "print(error_cnt_code)"
   ]
  },
  {
   "cell_type": "code",
   "execution_count": 9,
   "metadata": {},
   "outputs": [
    {
     "name": "stdout",
     "output_type": "stream",
     "text": [
      "0.876\n"
     ]
    }
   ],
   "source": [
    "print(correct_cnt/len(datas))\n",
    "#max tokens是"
   ]
  },
  {
   "cell_type": "code",
   "execution_count": 9,
   "metadata": {},
   "outputs": [
    {
     "name": "stdout",
     "output_type": "stream",
     "text": [
      "[(6, 5), (6, 2), (6, 0), (6, 3), (6, 1), (5, 2), (5, 3), (2, 3), (2, 1), (2, 5), (0, 4), (0, 3), (0, 5), (3, 1), (3, 6), (3, 5), (3, 2), (3, 0), (3, 4), (1, 5), (4, 7), (4, 3), (4, 5), (4, 2), (7, 5), (7, 0)]\n",
      "0.6785714285714286\n"
     ]
    }
   ],
   "source": [
    "import re\n",
    "import networkx as nx\n",
    "\n",
    "# Graph description\n",
    "graph = \"\"\"Node 6 is connected to nodes 5, 2, 0, 3, 1.\n",
    "Node 5 is connected to nodes 2, 3.\n",
    "Node 2 is connected to nodes 3, 1, 5.\n",
    "Node 0 is connected to nodes 4, 3, 5.\n",
    "Node 3 is connected to nodes 1, 6, 5, 2, 0, 4.\n",
    "Node 1 is connected to node 5.\n",
    "Node 4 is connected to nodes 7, 3, 5, 2.\n",
    "Node 7 is connected to nodes 5, 0.\"\"\"\n",
    "\n",
    "# Regular expression to extract connections\n",
    "pattern = r'Node (\\d+) is connected to nodes? ([\\d, ]+)\\.'\n",
    "matches = re.findall(pattern, graph)\n",
    "\n",
    "# Create a directed graph\n",
    "G = nx.DiGraph()\n",
    "\n",
    "# Add edges to the graph\n",
    "for node, neighbors in matches:\n",
    "    node = int(node)\n",
    "    neighbors = map(int, neighbors.split(', '))\n",
    "    for neighbor in neighbors:\n",
    "        G.add_edge(node, neighbor)\n",
    "print(G.edges())\n",
    "# Calculate clustering coefficient for node 6\n",
    "node1 = 6\n",
    "print(nx.clustering(G, node1))"
   ]
  },
  {
   "cell_type": "code",
   "execution_count": 10,
   "metadata": {},
   "outputs": [
    {
     "ename": "AttributeError",
     "evalue": "module 'networkx' has no attribute 'out_degree'",
     "output_type": "error",
     "traceback": [
      "\u001b[0;31m---------------------------------------------------------------------------\u001b[0m",
      "\u001b[0;31mAttributeError\u001b[0m                            Traceback (most recent call last)",
      "Cell \u001b[0;32mIn[10], line 30\u001b[0m\n\u001b[1;32m     27\u001b[0m         G\u001b[38;5;241m.\u001b[39madd_edge(node, neighbor)\n\u001b[1;32m     29\u001b[0m \u001b[38;5;66;03m# Calculate out-degree of node 3\u001b[39;00m\n\u001b[0;32m---> 30\u001b[0m out_degree \u001b[38;5;241m=\u001b[39m nx\u001b[38;5;241m.\u001b[39mout_degree(G, node3)\n\u001b[1;32m     31\u001b[0m \u001b[38;5;28mprint\u001b[39m(out_degree)\n",
      "\u001b[0;31mAttributeError\u001b[0m: module 'networkx' has no attribute 'out_degree'"
     ]
    }
   ],
   "source": [
    "import re\n",
    "import networkx as nx\n",
    "\n",
    "# Graph description\n",
    "graph = \"\"\"Node 4 is connected to nodes 2, 5.\n",
    "Node 2 is connected to nodes 8, 5, 1.\n",
    "Node 5 is connected to nodes 3, 6.\n",
    "Node 3 is connected to nodes 0, 7, 6, 5, 4.\n",
    "Node 0 is connected to nodes 8, 4.\n",
    "Node 7 is connected to nodes 1, 2.\n",
    "Node 6 is connected to nodes 8, 5, 1.\n",
    "Node 1 is connected to node 2.\n",
    "Node 8 is connected to node 6.\"\"\"\n",
    "\n",
    "# Regular expression to extract connections\n",
    "pattern = r'Node (\\d+) is connected to nodes? ([\\d, ]+)\\.'\n",
    "matches = re.findall(pattern, graph)\n",
    "\n",
    "# Create a directed graph\n",
    "G = nx.DiGraph()\n",
    "\n",
    "# Add edges to the graph\n",
    "for node, neighbors in matches:\n",
    "    node = int(node)\n",
    "    neighbors = map(int, neighbors.split(', '))\n",
    "    for neighbor in neighbors:\n",
    "        G.add_edge(node, neighbor)\n",
    "\n",
    "# Calculate out-degree of node 3\n",
    "out_degree = nx.out_degree(G, node3)\n",
    "print(out_degree)"
   ]
  },
  {
   "cell_type": "code",
   "execution_count": 10,
   "metadata": {},
   "outputs": [
    {
     "name": "stdout",
     "output_type": "stream",
     "text": [
      "{'Xiaoming Xi', 'Shan Juan Xie', 'Gongping Yang', 'Yilong Yin', 'Lu Yang', 'Ju Cheng Yang', 'Dong Sun Park'}\n"
     ]
    }
   ],
   "source": [
    "import networkx as nx\n",
    "\n",
    "edge_list = [('Yihua Shi', 'Yilong Yin'), ('Yihua Shi', 'Gongping Yang'), ('Yihua Shi', 'Rongyang Xiao'), ('Yihua Shi', 'Lu Yang'), ('Yihua Shi', 'Ju Cheng Yang'), ('Yihua Shi', 'Shan Juan Xie'), ('Yihua Shi', 'Dong Sun Park'), ('Yihua Shi', 'Xiaoming Xi'), ('Yihua Shi', 'Anil K. Jain'), ('Yihua Shi', 'Naoto Miura'), ('Yihua Shi', 'Takafumi Miyatake'), ('Anil K. Jain', 'Yilong Yin'), ('Anil K. Jain', 'Gongping Yang'), ('Anil K. Jain', 'Lu Yang'), ('Anil K. Jain', 'Ju Cheng Yang'), ('Anil K. Jain', 'Shan Juan Xie'), ('Anil K. Jain', 'Dong Sun Park'), ('Anil K. Jain', 'Xiaoming Xi'), ('Anil K. Jain', 'Ramachandra Raghavendra'), ('Rongyang Xiao', 'Yilong Yin'), ('Rongyang Xiao', 'Gongping Yang'), ('Rongyang Xiao', 'Xiaoming Xi'), ('Rongyang Xiao', 'Naoto Miura'), ('Rongyang Xiao', 'Takafumi Miyatake'), ('Rongyang Xiao', 'Lu Yang'), ('Lu Yang', 'Yilong Yin'), ('Lu Yang', 'Gongping Yang'), ('Lu Yang', 'Ju Cheng Yang'), ('Lu Yang', 'Shan Juan Xie'), ('Lu Yang', 'Dong Sun Park'), ('Lu Yang', 'Xiaoming Xi'), ('Lu Yang', 'Ramachandra Raghavendra'), ('Lu Yang', 'Naoto Miura'), ('Lu Yang', 'Hee Chan Kim'), ('Lu Yang', 'Joon Hwan Choi'), ('Lu Yang', 'Takafumi Miyatake'), ('Lu Yang', 'Won-Seok Song'), ('Lu Yang', 'Seung-Rae Lee'), ('Lu Yang', 'Xianjing Meng'), ('Naoto Miura', 'Yilong Yin'), ('Naoto Miura', 'Gongping Yang'), ('Naoto Miura', 'Ju Cheng Yang'), ('Naoto Miura', 'Shan Juan Xie'), ('Naoto Miura', 'Dong Sun Park'), ('Naoto Miura', 'Xiaoming Xi'), ('Naoto Miura', 'Ramachandra Raghavendra'), ('Ju Cheng Yang', 'Yilong Yin'), ('Ju Cheng Yang', 'Gongping Yang'), ('Ju Cheng Yang', 'Shan Juan Xie'), ('Ju Cheng Yang', 'Dong Sun Park'), ('Ju Cheng Yang', 'Takafumi Miyatake'), ('Xianjing Meng', 'Yilong Yin'), ('Xianjing Meng', 'Gongping Yang'), ('Xianjing Meng', 'Shan Juan Xie'), ('Xianjing Meng', 'Dong Sun Park'), ('Yilong Yin', 'Gongping Yang'), ('Yilong Yin', 'Shan Juan Xie'), ('Yilong Yin', 'Dong Sun Park'), ('Yilong Yin', 'Xiaoming Xi'), ('Yilong Yin', 'Ramachandra Raghavendra'), ('Yilong Yin', 'Hee Chan Kim'), ('Yilong Yin', 'Joon Hwan Choi'), ('Yilong Yin', 'Takafumi Miyatake'), ('Yilong Yin', 'Won-Seok Song'), ('Yilong Yin', 'Seung-Rae Lee'), ('Gongping Yang', 'Shan Juan Xie'), ('Gongping Yang', 'Dong Sun Park'), ('Gongping Yang', 'Xiaoming Xi'), ('Gongping Yang', 'Ramachandra Raghavendra'), ('Gongping Yang', 'Hee Chan Kim'), ('Gongping Yang', 'Joon Hwan Choi'), ('Gongping Yang', 'Takafumi Miyatake'), ('Gongping Yang', 'Won-Seok Song'), ('Gongping Yang', 'Seung-Rae Lee'), ('Hee Chan Kim', 'Shan Juan Xie'), ('Hee Chan Kim', 'Dong Sun Park'), ('Hee Chan Kim', 'Xiaoming Xi'), ('Xiaoming Xi', 'Joon Hwan Choi'), ('Xiaoming Xi', 'Takafumi Miyatake'), ('Xiaoming Xi', 'Won-Seok Song'), ('Xiaoming Xi', 'Seung-Rae Lee'), ('Won-Seok Song', 'Shan Juan Xie'), ('Won-Seok Song', 'Dong Sun Park'), ('Seung-Rae Lee', 'Shan Juan Xie'), ('Seung-Rae Lee', 'Dong Sun Park'), ('Ramachandra Raghavendra', 'Takafumi Miyatake'), ('Joon Hwan Choi', 'Shan Juan Xie'), ('Joon Hwan Choi', 'Dong Sun Park'), ('Takafumi Miyatake', 'Shan Juan Xie'), ('Takafumi Miyatake', 'Dong Sun Park'), ('Shan Juan Xie', 'Dong Sun Park')]\n",
    "\n",
    "G = nx.Graph()\n",
    "G.add_edges_from(edge_list)\n",
    "\n",
    "common_neighbors = nx.common_neighbors(G, 'Yihua Shi', 'Anil K. Jain')\n",
    "print(common_neighbors)"
   ]
  },
  {
   "cell_type": "code",
   "execution_count": 12,
   "metadata": {},
   "outputs": [
    {
     "name": "stdout",
     "output_type": "stream",
     "text": [
      "7\n"
     ]
    }
   ],
   "source": [
    "import networkx as nx\n",
    "\n",
    "edge_list = [('Yihua Shi', 'Yilong Yin'), ('Yihua Shi', 'Gongping Yang'), ('Yihua Shi', 'Rongyang Xiao'), ('Yihua Shi', 'Lu Yang'), ('Yihua Shi', 'Ju Cheng Yang'), ('Yihua Shi', 'Shan Juan Xie'), ('Yihua Shi', 'Dong Sun Park'), ('Yihua Shi', 'Xiaoming Xi'), ('Yihua Shi', 'Anil K. Jain'), ('Yihua Shi', 'Naoto Miura'), ('Yihua Shi', 'Takafumi Miyatake'), ('Anil K. Jain', 'Yilong Yin'), ('Anil K. Jain', 'Gongping Yang'), ('Anil K. Jain', 'Lu Yang'), ('Anil K. Jain', 'Ju Cheng Yang'), ('Anil K. Jain', 'Shan Juan Xie'), ('Anil K. Jain', 'Dong Sun Park'), ('Anil K. Jain', 'Xiaoming Xi'), ('Anil K. Jain', 'Ramachandra Raghavendra'), ('Rongyang Xiao', 'Yilong Yin'), ('Rongyang Xiao', 'Gongping Yang'), ('Rongyang Xiao', 'Xiaoming Xi'), ('Rongyang Xiao', 'Naoto Miura'), ('Rongyang Xiao', 'Takafumi Miyatake'), ('Rongyang Xiao', 'Lu Yang'), ('Lu Yang', 'Yilong Yin'), ('Lu Yang', 'Gongping Yang'), ('Lu Yang', 'Ju Cheng Yang'), ('Lu Yang', 'Shan Juan Xie'), ('Lu Yang', 'Dong Sun Park'), ('Lu Yang', 'Xiaoming Xi'), ('Lu Yang', 'Ramachandra Raghavendra'), ('Lu Yang', 'Naoto Miura'), ('Lu Yang', 'Hee Chan Kim'), ('Lu Yang', 'Joon Hwan Choi'), ('Lu Yang', 'Takafumi Miyatake'), ('Lu Yang', 'Won-Seok Song'), ('Lu Yang', 'Seung-Rae Lee'), ('Lu Yang', 'Xianjing Meng'), ('Naoto Miura', 'Yilong Yin'), ('Naoto Miura', 'Gongping Yang'), ('Naoto Miura', 'Ju Cheng Yang'), ('Naoto Miura', 'Shan Juan Xie'), ('Naoto Miura', 'Dong Sun Park'), ('Naoto Miura', 'Xiaoming Xi'), ('Naoto Miura', 'Ramachandra Raghavendra'), ('Ju Cheng Yang', 'Yilong Yin'), ('Ju Cheng Yang', 'Gongping Yang'), ('Ju Cheng Yang', 'Shan Juan Xie'), ('Ju Cheng Yang', 'Dong Sun Park'), ('Ju Cheng Yang', 'Takafumi Miyatake'), ('Xianjing Meng', 'Yilong Yin'), ('Xianjing Meng', 'Gongping Yang'), ('Xianjing Meng', 'Shan Juan Xie'), ('Xianjing Meng', 'Dong Sun Park'), ('Yilong Yin', 'Gongping Yang'), ('Yilong Yin', 'Shan Juan Xie'), ('Yilong Yin', 'Dong Sun Park'), ('Yilong Yin', 'Xiaoming Xi'), ('Yilong Yin', 'Ramachandra Raghavendra'), ('Yilong Yin', 'Hee Chan Kim'), ('Yilong Yin', 'Joon Hwan Choi'), ('Yilong Yin', 'Takafumi Miyatake'), ('Yilong Yin', 'Won-Seok Song'), ('Yilong Yin', 'Seung-Rae Lee'), ('Gongping Yang', 'Shan Juan Xie'), ('Gongping Yang', 'Dong Sun Park'), ('Gongping Yang', 'Xiaoming Xi'), ('Gongping Yang', 'Ramachandra Raghavendra'), ('Gongping Yang', 'Hee Chan Kim'), ('Gongping Yang', 'Joon Hwan Choi'), ('Gongping Yang', 'Takafumi Miyatake'), ('Gongping Yang', 'Won-Seok Song'), ('Gongping Yang', 'Seung-Rae Lee'), ('Hee Chan Kim', 'Shan Juan Xie'), ('Hee Chan Kim', 'Dong Sun Park'), ('Hee Chan Kim', 'Xiaoming Xi'), ('Xiaoming Xi', 'Joon Hwan Choi'), ('Xiaoming Xi', 'Takafumi Miyatake'), ('Xiaoming Xi', 'Won-Seok Song'), ('Xiaoming Xi', 'Seung-Rae Lee'), ('Won-Seok Song', 'Shan Juan Xie'), ('Won-Seok Song', 'Dong Sun Park'), ('Seung-Rae Lee', 'Shan Juan Xie'), ('Seung-Rae Lee', 'Dong Sun Park'), ('Ramachandra Raghavendra', 'Takafumi Miyatake'), ('Joon Hwan Choi', 'Shan Juan Xie'), ('Joon Hwan Choi', 'Dong Sun Park'), ('Takafumi Miyatake', 'Shan Juan Xie'), ('Takafumi Miyatake', 'Dong Sun Park'), ('Shan Juan Xie', 'Dong Sun Park')]\n",
    "\n",
    "G = nx.Graph(edge_list)\n",
    "print(len(list(nx.common_neighbors(G, 'Yihua Shi', 'Anil K. Jain'))))"
   ]
  },
  {
   "cell_type": "code",
   "execution_count": 38,
   "metadata": {},
   "outputs": [
    {
     "ename": "SyntaxError",
     "evalue": "incomplete input (1739189855.py, line 6)",
     "output_type": "error",
     "traceback": [
      "\u001b[0;36m  Cell \u001b[0;32mIn[38], line 6\u001b[0;36m\u001b[0m\n\u001b[0;31m    print(len(list(nx.common_neighbors(G, 'S. K. Samanta', 'Wenzhong Shi')))\u001b[0m\n\u001b[0m                                                                            ^\u001b[0m\n\u001b[0;31mSyntaxError\u001b[0m\u001b[0;31m:\u001b[0m incomplete input\n"
     ]
    }
   ],
   "source": [
    "\n",
    "import networkx as nx\n",
    "\n",
    "edge_list = [('S. K. Samanta', 'Zeshui Xu'), ('S. K. Samanta', 'A. Ghareeb'), ('Zeshui Xu', 'Tapas Mondal'), ('Wenzhong Shi', 'A. Ghareeb'), ('A. Ghareeb', 'Tapas Mondal')]\n",
    "\n",
    "G = nx.Graph(edge_list)\n",
    "print(len(list(nx.common_neighbors(G, 'S. K. Samanta', 'Wenzhong Shi'))))"
   ]
  }
 ],
 "metadata": {
  "kernelspec": {
   "display_name": "base",
   "language": "python",
   "name": "python3"
  },
  "language_info": {
   "codemirror_mode": {
    "name": "ipython",
    "version": 3
   },
   "file_extension": ".py",
   "mimetype": "text/x-python",
   "name": "python",
   "nbconvert_exporter": "python",
   "pygments_lexer": "ipython3",
   "version": "3.12.4"
  }
 },
 "nbformat": 4,
 "nbformat_minor": 2
}
