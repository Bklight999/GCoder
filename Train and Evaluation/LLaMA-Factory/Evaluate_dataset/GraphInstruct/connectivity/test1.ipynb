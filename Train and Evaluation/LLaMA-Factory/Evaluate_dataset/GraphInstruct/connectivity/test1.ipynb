{
 "cells": [
  {
   "cell_type": "code",
   "execution_count": 9,
   "metadata": {},
   "outputs": [],
   "source": [
    "import json\n",
    "task = 'connectivity'\n",
    "filename = task+'_result_v1_qwen.json'\n",
    "with open(filename, 'r', encoding='utf-8') as f:\n",
    "    datas=json.load(f)"
   ]
  },
  {
   "cell_type": "code",
   "execution_count": 10,
   "metadata": {},
   "outputs": [],
   "source": [
    "filename1 = task+'_test.json'\n",
    "with open(filename1, 'r', encoding='utf-8') as f:\n",
    "    gt=json.load(f)"
   ]
  },
  {
   "cell_type": "code",
   "execution_count": 11,
   "metadata": {},
   "outputs": [
    {
     "name": "stdout",
     "output_type": "stream",
     "text": [
      "300\n",
      "300\n",
      "{'input_prompt': 'Given an undirected graph as follows:\\nNode 8 is connected to nodes 4, 5.\\nNode 4 is connected to nodes 8, 1.\\nNode 5 is connected to nodes 8, 2.\\nNode 1 is connected to nodes 4, 7, 6.\\nNode 3 is connected to nodes 10, 11.\\nNode 10 is connected to nodes 3, 7.\\nNode 11 is connected to nodes 3, 9.\\nNode 7 is connected to nodes 10, 1.\\nNode 0 is connected to node 9.\\nNode 9 is connected to nodes 0, 11.\\nNode 6 is connected to nodes 1, 2.\\nNode 2 is connected to nodes 5, 6.\\nIs there a path between node 0 and node 4?', 'answer': 'Yes'}\n"
     ]
    }
   ],
   "source": [
    "print(len(datas))\n",
    "print(len(gt))\n",
    "print(gt[0])"
   ]
  },
  {
   "cell_type": "code",
   "execution_count": 13,
   "metadata": {},
   "outputs": [],
   "source": [
    "import re\n",
    "import io\n",
    "import sys\n"
   ]
  },
  {
   "cell_type": "code",
   "execution_count": 14,
   "metadata": {},
   "outputs": [
    {
     "name": "stdout",
     "output_type": "stream",
     "text": [
      "```python\n",
      "import re\n",
      "import networkx as nx\n",
      "\n",
      "graph = \"\"\"Node 10 is connected to nodes 8, 5.\n",
      "Node 8 is connected to nodes 1, 6, 0.\n",
      "Node 5 is connected to nodes 2, 7, 8, 1, 6.\n",
      "Node 2 is connected to nodes 0, 3, 11, 6, 10.\n",
      "Node 0 is connected to nodes 3, 8, 11, 1, 2.\n",
      "Node 3 is connected to nodes 10, 9.\n",
      "Node 11 is connected to nodes 2, 4, 3.\n",
      "Node 6 is connected to nodes 10, 3.\n",
      "Node 4 is connected to nodes 9, 0, 11, 1, 5.\n",
      "Node 9 is connected to nodes 7, 1, 6, 10, 2.\n",
      "Node 1 is connected to nodes 10, 7, 0.\n",
      "Node 7 is connected to nodes 0, 6, 5, 10, 4.\"\"\"\n",
      "\n",
      "# Regular expression to extract connections\n",
      "pattern = r'Node (\\d+) is connected to nodes? ([\\d, ]+)\\.'\n",
      "matches = re.findall(pattern, graph)\n",
      "\n",
      "# Create a directed graph\n",
      "G = nx.DiGraph()\n",
      "\n",
      "# Add edges to the graph\n",
      "for node, neighbors in matches:\n",
      "    node = int(node)\n",
      "    neighbors = map(int, neighbors.split(', '))\n",
      "    for neighbor in neighbors:\n",
      "        G.add_edge(node, neighbor)\n",
      "\n",
      "# Check for directed path from node 3 to node 9\n",
      "path_exists = nx.has_path(G, 3, 9)\n",
      "print(path_exists)\n",
      "```\n",
      "\n",
      "\n",
      "```\n"
     ]
    }
   ],
   "source": [
    "print(datas[2]['code'])"
   ]
  },
  {
   "cell_type": "code",
   "execution_count": 15,
   "metadata": {},
   "outputs": [],
   "source": [
    "error_cnt = 0\n",
    "correct_cnt = 0\n",
    "for i, data in enumerate(datas):\n",
    "    text = data['code']\n",
    "    code = re.sub(r'^```python\\n|```$', '', text, flags=re.MULTILINE)\n",
    "    ans = gt[i]['answer']\n",
    "\n",
    "    # 创建一个 StringIO 对象来捕获输出\n",
    "    output = io.StringIO()\n",
    "\n",
    "    # 重定向 sys.stdout\n",
    "    old_stdout = sys.stdout\n",
    "    sys.stdout = output\n",
    "\n",
    "    try:\n",
    "        exec(code, globals(), globals())\n",
    "    except:\n",
    "        sys.stdout = old_stdout\n",
    "        print(code)\n",
    "        error_cnt = error_cnt + 1\n",
    "        continue\n",
    "    finally:\n",
    "        sys.stdout = old_stdout\n",
    "    \n",
    "\n",
    "    # 获取输出内容\n",
    "    output_content = output.getvalue()\n",
    "    output_content = str(output_content).strip()\n",
    "    # print(\"Captured Output:\")\n",
    "    \n",
    "    if output_content == 'True':\n",
    "        output_content ='Yes'\n",
    "    else:\n",
    "        output_content = 'No'\n",
    "    \n",
    "\n",
    "    if str(output_content).strip() == str(ans).strip():\n",
    "         correct_cnt = correct_cnt + 1\n",
    "    else:\n",
    "        print(output_content,ans)"
   ]
  },
  {
   "cell_type": "code",
   "execution_count": 16,
   "metadata": {},
   "outputs": [
    {
     "name": "stdout",
     "output_type": "stream",
     "text": [
      "0\n",
      "300\n"
     ]
    }
   ],
   "source": [
    "print(error_cnt)\n",
    "print(correct_cnt)"
   ]
  },
  {
   "cell_type": "code",
   "execution_count": 8,
   "metadata": {},
   "outputs": [
    {
     "name": "stdout",
     "output_type": "stream",
     "text": [
      "0.7966666666666666\n"
     ]
    }
   ],
   "source": [
    "print(correct_cnt/len(datas))\n",
    "#max tokens是"
   ]
  },
  {
   "cell_type": "code",
   "execution_count": 28,
   "metadata": {},
   "outputs": [
    {
     "name": "stdout",
     "output_type": "stream",
     "text": [
      "[(6, 5), (6, 2), (6, 0), (6, 3), (6, 1), (5, 2), (5, 3), (2, 3), (2, 1), (2, 5), (0, 4), (0, 3), (0, 5), (3, 1), (3, 6), (3, 5), (3, 2), (3, 0), (3, 4), (1, 5), (4, 7), (4, 3), (4, 5), (4, 2), (7, 5), (7, 0)]\n",
      "0.6785714285714286\n"
     ]
    }
   ],
   "source": [
    "import re\n",
    "import networkx as nx\n",
    "\n",
    "# Graph description\n",
    "graph = \"\"\"Node 6 is connected to nodes 5, 2, 0, 3, 1.\n",
    "Node 5 is connected to nodes 2, 3.\n",
    "Node 2 is connected to nodes 3, 1, 5.\n",
    "Node 0 is connected to nodes 4, 3, 5.\n",
    "Node 3 is connected to nodes 1, 6, 5, 2, 0, 4.\n",
    "Node 1 is connected to node 5.\n",
    "Node 4 is connected to nodes 7, 3, 5, 2.\n",
    "Node 7 is connected to nodes 5, 0.\"\"\"\n",
    "\n",
    "# Regular expression to extract connections\n",
    "pattern = r'Node (\\d+) is connected to nodes? ([\\d, ]+)\\.'\n",
    "matches = re.findall(pattern, graph)\n",
    "\n",
    "# Create a directed graph\n",
    "G = nx.DiGraph()\n",
    "\n",
    "# Add edges to the graph\n",
    "for node, neighbors in matches:\n",
    "    node = int(node)\n",
    "    neighbors = map(int, neighbors.split(', '))\n",
    "    for neighbor in neighbors:\n",
    "        G.add_edge(node, neighbor)\n",
    "print(G.edges())\n",
    "# Calculate clustering coefficient for node 6\n",
    "node1 = 6\n",
    "print(nx.clustering(G, node1))"
   ]
  }
 ],
 "metadata": {
  "kernelspec": {
   "display_name": "base",
   "language": "python",
   "name": "python3"
  },
  "language_info": {
   "codemirror_mode": {
    "name": "ipython",
    "version": 3
   },
   "file_extension": ".py",
   "mimetype": "text/x-python",
   "name": "python",
   "nbconvert_exporter": "python",
   "pygments_lexer": "ipython3",
   "version": "3.12.4"
  }
 },
 "nbformat": 4,
 "nbformat_minor": 2
}
