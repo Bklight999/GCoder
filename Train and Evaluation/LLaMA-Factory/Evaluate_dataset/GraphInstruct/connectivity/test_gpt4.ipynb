{
 "cells": [
  {
   "cell_type": "code",
   "execution_count": 1,
   "metadata": {},
   "outputs": [],
   "source": [
    "import json\n",
    "task = 'connectivity'\n",
    "filename = task+'_result_gpt4.json'\n",
    "with open(filename, 'r', encoding='utf-8') as f:\n",
    "    datas=json.load(f)"
   ]
  },
  {
   "cell_type": "code",
   "execution_count": 3,
   "metadata": {},
   "outputs": [],
   "source": [
    "filename1 = task+'_test.json'\n",
    "with open(filename1, 'r', encoding='utf-8') as f:\n",
    "    gt=json.load(f)"
   ]
  },
  {
   "cell_type": "code",
   "execution_count": 4,
   "metadata": {},
   "outputs": [
    {
     "name": "stdout",
     "output_type": "stream",
     "text": [
      "300\n",
      "300\n",
      "{'input_prompt': 'Given an undirected graph as follows:\\nNode 8 is connected to nodes 4, 5.\\nNode 4 is connected to nodes 8, 1.\\nNode 5 is connected to nodes 8, 2.\\nNode 1 is connected to nodes 4, 7, 6.\\nNode 3 is connected to nodes 10, 11.\\nNode 10 is connected to nodes 3, 7.\\nNode 11 is connected to nodes 3, 9.\\nNode 7 is connected to nodes 10, 1.\\nNode 0 is connected to node 9.\\nNode 9 is connected to nodes 0, 11.\\nNode 6 is connected to nodes 1, 2.\\nNode 2 is connected to nodes 5, 6.\\nIs there a path between node 0 and node 4?', 'answer': 'Yes'}\n"
     ]
    }
   ],
   "source": [
    "print(len(datas))\n",
    "print(len(gt))\n",
    "print(gt[0])"
   ]
  },
  {
   "cell_type": "code",
   "execution_count": 5,
   "metadata": {},
   "outputs": [],
   "source": [
    "import re\n",
    "import io\n",
    "import sys\n"
   ]
  },
  {
   "cell_type": "code",
   "execution_count": 10,
   "metadata": {},
   "outputs": [
    {
     "name": "stderr",
     "output_type": "stream",
     "text": [
      "Exception in thread Thread-945 (target):\n",
      "Traceback (most recent call last):\n",
      "  File \"/home/qifanzhang/anaconda3/lib/python3.12/threading.py\", line 1073, in _bootstrap_inner\n",
      "    self.run()\n",
      "  File \"/home/qifanzhang/anaconda3/lib/python3.12/threading.py\", line 1010, in run\n",
      "    self._target(*self._args, **self._kwargs)\n",
      "  File \"/tmp/ipykernel_2344740/2305305801.py\", line 12, in target\n",
      "  File \"<string>\", line 35, in <module>\n",
      "  File \"<string>\", line 13, in has_path\n",
      "KeyError: 8\n"
     ]
    },
    {
     "name": "stdout",
     "output_type": "stream",
     "text": [
      " No\n"
     ]
    },
    {
     "name": "stderr",
     "output_type": "stream",
     "text": [
      "Exception in thread Thread-1195 (target):\n",
      "Traceback (most recent call last):\n",
      "  File \"/home/qifanzhang/anaconda3/lib/python3.12/threading.py\", line 1073, in _bootstrap_inner\n",
      "    self.run()\n",
      "  File \"/home/qifanzhang/anaconda3/lib/python3.12/threading.py\", line 1010, in run\n",
      "    self._target(*self._args, **self._kwargs)\n",
      "  File \"/tmp/ipykernel_2344740/2305305801.py\", line 12, in target\n",
      "  File \"<string>\", line 36, in <module>\n",
      "  File \"<string>\", line 31, in has_path\n",
      "KeyError: 11\n"
     ]
    },
    {
     "name": "stdout",
     "output_type": "stream",
     "text": [
      " No\n"
     ]
    }
   ],
   "source": [
    "error_cnt = 0\n",
    "correct_cnt = 0\n",
    "import threading\n",
    "import re\n",
    "\n",
    "class TimeoutException(Exception):\n",
    "    pass\n",
    "\n",
    "def run_with_timeout(code, timeout=15):\n",
    "    # 定义执行代码的函数\n",
    "    def target():\n",
    "        exec(code, globals(), globals())\n",
    "\n",
    "    thread = threading.Thread(target=target)\n",
    "    thread.start()\n",
    "    thread.join(timeout)\n",
    "\n",
    "    if thread.is_alive():\n",
    "        raise TimeoutException(\"Code execution exceeded timeout limit.\")\n",
    "\n",
    "for i, (key,value) in enumerate(datas.items()):\n",
    "    text = value['gpt4']\n",
    "    code = re.sub(r'^```python\\n|```$', '', text, flags=re.MULTILINE)\n",
    "    ans = gt[i]['answer']\n",
    "\n",
    "    # 创建一个 StringIO 对象来捕获输出\n",
    "    output = io.StringIO()\n",
    "\n",
    "    # 重定向 sys.stdout\n",
    "    old_stdout = sys.stdout\n",
    "    sys.stdout = output\n",
    "\n",
    "    try:\n",
    "        run_with_timeout(code,timeout=5)\n",
    "    except TimeoutException as e:\n",
    "        error_cnt = error_cnt + 1\n",
    "        print(e)\n",
    "        continue\n",
    "    except:\n",
    "        sys.stdout = old_stdout\n",
    "        print(code)\n",
    "        error_cnt = error_cnt + 1\n",
    "        continue\n",
    "    finally:\n",
    "        sys.stdout = old_stdout\n",
    "    \n",
    "\n",
    "    # 获取输出内容\n",
    "    output_content = output.getvalue()\n",
    "    output_content = str(output_content).strip()\n",
    "    # print(\"Captured Output:\")\n",
    "    \n",
    "    if output_content == 'yes' or output_content == 'True':\n",
    "        output_content = 'Yes'\n",
    "    elif output_content == 'no' or output_content == 'False':                                 \n",
    "        output_content = 'No'\n",
    "\n",
    "    if output_content.strip() == str(ans).strip():\n",
    "         correct_cnt = correct_cnt + 1\n",
    "    else:\n",
    "        #print(code)\n",
    "        print(output_content,ans)\n",
    "        # print(code)"
   ]
  },
  {
   "cell_type": "code",
   "execution_count": 11,
   "metadata": {},
   "outputs": [
    {
     "name": "stdout",
     "output_type": "stream",
     "text": [
      "0\n",
      "298\n"
     ]
    }
   ],
   "source": [
    "print(error_cnt)\n",
    "print(correct_cnt)"
   ]
  },
  {
   "cell_type": "code",
   "execution_count": 12,
   "metadata": {},
   "outputs": [
    {
     "name": "stdout",
     "output_type": "stream",
     "text": [
      "0.9933333333333333\n"
     ]
    }
   ],
   "source": [
    "print(correct_cnt/len(datas))\n",
    "#max tokens是"
   ]
  },
  {
   "cell_type": "code",
   "execution_count": 10,
   "metadata": {},
   "outputs": [
    {
     "name": "stdout",
     "output_type": "stream",
     "text": [
      "1,3,5,2,4\n"
     ]
    }
   ],
   "source": [
    "import re\n",
    "output_content = \"[1,3,5,2,4]\"\n",
    "pattern = r\"[\\{\\[]([^}\\]]*)[\\}\\]]\"\n",
    "match1 = re.search(pattern, output_content)\n",
    "\n",
    "\n",
    "if match1:\n",
    "    content_output = match1.group(1)\n",
    "    \n",
    "print(content_output)"
   ]
  },
  {
   "cell_type": "code",
   "execution_count": 24,
   "metadata": {},
   "outputs": [
    {
     "name": "stdout",
     "output_type": "stream",
     "text": [
      "0, 1, 2, 3, 4, 10, 7\n",
      "[0, 1, 2, 3, 4, 7, 10]\n"
     ]
    }
   ],
   "source": [
    "import re\n",
    "\n",
    "text = \"{0, 1, 2, 3, 4, 10, 7}\"\n",
    "pattern = r\"[\\{\\[]([^}\\]]*)[\\}\\]]\"\n",
    "match = re.search(pattern, text)\n",
    "\n",
    "if match:\n",
    "    content = match.group(1)\n",
    "    print(content)  # 输出: 0, 1, 2, 3, 4, 6, 7\n",
    "    numbers = list(map(int, content.split(',')))\n",
    "    numbers.sort()\n",
    "    print(numbers)"
   ]
  }
 ],
 "metadata": {
  "kernelspec": {
   "display_name": "base",
   "language": "python",
   "name": "python3"
  },
  "language_info": {
   "codemirror_mode": {
    "name": "ipython",
    "version": 3
   },
   "file_extension": ".py",
   "mimetype": "text/x-python",
   "name": "python",
   "nbconvert_exporter": "python",
   "pygments_lexer": "ipython3",
   "version": "3.12.4"
  }
 },
 "nbformat": 4,
 "nbformat_minor": 2
}
