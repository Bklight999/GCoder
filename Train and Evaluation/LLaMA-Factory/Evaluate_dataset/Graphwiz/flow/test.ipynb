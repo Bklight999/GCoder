{
 "cells": [
  {
   "cell_type": "code",
   "execution_count": 1,
   "metadata": {},
   "outputs": [],
   "source": [
    "import json\n",
    "\n",
    "with open('flow_result.json', 'r', encoding='utf-8') as f:\n",
    "    datas=json.load(f)"
   ]
  },
  {
   "cell_type": "code",
   "execution_count": 2,
   "metadata": {},
   "outputs": [],
   "source": [
    "def read_json(file_name):\n",
    "    # 存放所有字典的列表\n",
    "    dict_list = []\n",
    "\n",
    "    # 打开文件并逐行读取\n",
    "    with open(file_name, 'r', encoding='utf-8') as file:\n",
    "        for line in file:\n",
    "            # 去掉行末的换行符（如果有）\n",
    "            line = line.strip()\n",
    "            if line:\n",
    "                # 将每行的字符串解析为字典，并添加到列表中\n",
    "                dict_list.append(json.loads(line))\n",
    "    return dict_list\n",
    "\n",
    "gt = read_json('flow_test.json')"
   ]
  },
  {
   "cell_type": "code",
   "execution_count": 3,
   "metadata": {},
   "outputs": [
    {
     "name": "stdout",
     "output_type": "stream",
     "text": [
      "400\n",
      "400\n",
      "{'index': 0, 'input_prompt': 'Find the maximum flow between two nodes in a directed graph. In a directed graph, (i->j,k) means that node i and node j are connected with an directed edge from node i to node j with weight k. Given a graph and a pair of nodes, you need to output the maximum flow between the two nodes. Q: The nodes are numbered from 0 to 4, and the edges are: (0->1,6) (1->2,2) (2->4,6) (3->4,4). What is the maximum flow from node 0 to node 4?', 'answer': '### 2', 'node_range': [2, 10], 'edge_range': [0, 18]}\n"
     ]
    }
   ],
   "source": [
    "print(len(datas))\n",
    "print(len(gt))\n",
    "print(gt[0])"
   ]
  },
  {
   "cell_type": "code",
   "execution_count": 4,
   "metadata": {},
   "outputs": [],
   "source": [
    "import re\n",
    "import io\n",
    "import sys\n"
   ]
  },
  {
   "cell_type": "code",
   "execution_count": 5,
   "metadata": {},
   "outputs": [
    {
     "name": "stdout",
     "output_type": "stream",
     "text": [
      "Find the maximum flow between two nodes in a directed graph. In a directed graph, (i->j,k) means that node i and node j are connected with an directed edge from node i to node j with weight k. Given a graph and a pair of nodes, you need to output the maximum flow between the two nodes. Q: The nodes are numbered from 0 to 8, and the edges are: (0->4,10) (0->3,3) (1->3,1) (3->8,1) (4->7,1) (6->7,1). What is the maximum flow from node 0 to node 7?\n",
      "```python\n",
      "import re\n",
      "import networkx as nx\n",
      "\n",
      "# Graph description\n",
      "graph = \"(0->4,10) (0->3,3) (1->3,1) (3->8,1) (4->7,1) (6->7,1)\"\n",
      "\n",
      "# Regular expression to extract edges with weights\n",
      "pattern = r'\\((\\d+)->(\\d+),(\\d+)\\)'\n",
      "matches = re.findall(pattern, graph)\n",
      "\n",
      "# Create a directed graph\n",
      "G = nx.DiGraph()\n",
      "\n",
      "# Add edges with weights to the graph\n",
      "for node1, node2, weight in matches:\n",
      "    G.add_edge(int(node1), int(node2), weight=int(weight))\n",
      "\n",
      "# Calculate maximum flow from node 0 to node 7\n",
      "try:\n",
      "    flow_value, flow_dict = nx.maximum_flow(G, 0, 7, capacity='weight')\n",
      "    print(flow_value)\n",
      "except:\n",
      "    print(\"error\")\n",
      "```\n",
      "### 1\n"
     ]
    }
   ],
   "source": [
    "print(gt[2]['input_prompt'])\n",
    "print(datas[2]['code'])\n",
    "print(gt[2]['answer'])"
   ]
  },
  {
   "cell_type": "code",
   "execution_count": 6,
   "metadata": {},
   "outputs": [],
   "source": [
    "error_cnt = 0\n",
    "correct_cnt = 0\n",
    "for i, data in enumerate(datas):\n",
    "    text = data['code']\n",
    "    code = re.sub(r'^```python\\n|```$', '', text, flags=re.MULTILINE)\n",
    "    ans = gt[i]['answer']\n",
    "\n",
    "    # 创建一个 StringIO 对象来捕获输出\n",
    "    output = io.StringIO()\n",
    "\n",
    "    # 重定向 sys.stdout\n",
    "    old_stdout = sys.stdout\n",
    "    sys.stdout = output\n",
    "\n",
    "    try:\n",
    "        exec(code, globals(), globals())\n",
    "    except:\n",
    "        sys.stdout = old_stdout\n",
    "        print(code)\n",
    "        error_cnt = error_cnt + 1\n",
    "        continue\n",
    "    finally:\n",
    "        sys.stdout = old_stdout\n",
    "    \n",
    "\n",
    "    # 获取输出内容\n",
    "    output_content = output.getvalue()\n",
    "    output_content = str(output_content).strip()\n",
    "    # print(\"Captured Output:\")\n",
    "    #print(output_content)\n",
    "    \n",
    "    \n",
    "    # print(f'llm={output_content} gt={ans}')\n",
    "        \n",
    "    if output_content.strip() == str(ans).split('###')[1].strip(): ### 3\n",
    "        correct_cnt = correct_cnt + 1\n",
    "    else:\n",
    "        print(code)\n",
    "        # print(output_content,ans)"
   ]
  },
  {
   "cell_type": "code",
   "execution_count": 7,
   "metadata": {},
   "outputs": [
    {
     "name": "stdout",
     "output_type": "stream",
     "text": [
      "0\n",
      "400\n"
     ]
    }
   ],
   "source": [
    "print(error_cnt)\n",
    "print(correct_cnt)"
   ]
  },
  {
   "cell_type": "code",
   "execution_count": 8,
   "metadata": {},
   "outputs": [
    {
     "name": "stdout",
     "output_type": "stream",
     "text": [
      "1.0\n"
     ]
    }
   ],
   "source": [
    "print(correct_cnt/len(datas))"
   ]
  },
  {
   "cell_type": "code",
   "execution_count": 15,
   "metadata": {},
   "outputs": [
    {
     "name": "stdout",
     "output_type": "stream",
     "text": [
      "4\n"
     ]
    }
   ],
   "source": [
    "import re\n",
    "import networkx as nx\n",
    "\n",
    "# Graph description\n",
    "graph = \"The nodes are numbered from 0 to 8, and the edges are: (0->5,1) (1->2,5) (1->4,4) (2->7,9) (2->5,1) (2->4,9) (3->7,7) (4->6,1) (4->5,3) (6->7,6) (7->8,4).\"\n",
    "\n",
    "# Regular expression to extract edges with weights\n",
    "pattern = r'\\((\\d+)->(\\d+),(\\d+)\\)'\n",
    "matches = re.findall(pattern, graph)\n",
    "\n",
    "# Create a directed graph\n",
    "G = nx.DiGraph()\n",
    "\n",
    "# Add edges with weights to the graph\n",
    "for node1, node2, weight in matches:\n",
    "    G.add_edge(int(node1), int(node2), weight=int(weight))\n",
    "\n",
    "# Calculate maximum flow from node 6 to node 8\n",
    "\n",
    "flow_value, flow_dict = nx.maximum_flow(G, 6, 8, capacity='weight')\n",
    "print(flow_value)\n"
   ]
  },
  {
   "cell_type": "code",
   "execution_count": 16,
   "metadata": {},
   "outputs": [
    {
     "name": "stdout",
     "output_type": "stream",
     "text": [
      "[22, 73, 5, 59, 21, 54, 44, 45, 81, 88, 3, 94, 0, 18, 65, 70, 41, 68, 8, 50, 12, 26, 46, 91, 38, 24, 51, 13, 1, 39, 35, 75, 67, 69, 74, 25, 76, 23, 77, 92, 58, 83, 9, 62, 55, 16, 14, 80, 2, 6, 71, 11, 95, 4, 87, 90, 15, 43, 20, 48, 82, 60, 29, 36, 34, 42, 63, 84, 86, 85, 7, 61, 47, 37, 56, 49, 28, 31, 53, 33, 78, 17, 93, 27, 40, 89, 10, 30, 64, 57, 32, 66, 79, 72, 19, 52]\n"
     ]
    }
   ],
   "source": [
    "print(G.nodes())"
   ]
  }
 ],
 "metadata": {
  "kernelspec": {
   "display_name": "base",
   "language": "python",
   "name": "python3"
  },
  "language_info": {
   "codemirror_mode": {
    "name": "ipython",
    "version": 3
   },
   "file_extension": ".py",
   "mimetype": "text/x-python",
   "name": "python",
   "nbconvert_exporter": "python",
   "pygments_lexer": "ipython3",
   "version": "3.12.4"
  }
 },
 "nbformat": 4,
 "nbformat_minor": 2
}
