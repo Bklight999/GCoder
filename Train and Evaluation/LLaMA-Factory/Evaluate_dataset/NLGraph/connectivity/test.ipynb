{
 "cells": [
  {
   "cell_type": "code",
   "execution_count": 1,
   "metadata": {},
   "outputs": [],
   "source": [
    "import json\n",
    "\n",
    "with open('connectivity_result.json', 'r', encoding='utf-8') as f:\n",
    "    datas=json.load(f)"
   ]
  },
  {
   "cell_type": "code",
   "execution_count": 3,
   "metadata": {},
   "outputs": [],
   "source": [
    "with open('connectivity_test.json','r') as f:\n",
    "    gt = json.load(f)"
   ]
  },
  {
   "cell_type": "code",
   "execution_count": 4,
   "metadata": {},
   "outputs": [
    {
     "name": "stdout",
     "output_type": "stream",
     "text": [
      "1861\n",
      "1861\n",
      "{'input_prompt': 'Determine if there is a path between two nodes in the graph. Note that (i,j) means that node i and node j are connected with an undirected edge.\\nGraph: (0,12) (0,13) (0,2) (0,14) (0,23) (0,8) (0,1) (0,25) (0,27) (0,10) (1,29) (1,13) (1,19) (1,28) (1,23) (1,30) (1,25) (1,24) (2,12) (2,5) (2,14) (2,17) (2,23) (3,7) (3,12) (3,19) (3,23) (3,8) (3,30) (3,25) (3,24) (4,33) (5,20) (5,23) (5,30) (6,15) (6,11) (7,32) (7,17) (7,23) (7,8) (7,10) (8,29) (8,12) (8,32) (8,20) (8,19) (8,17) (8,30) (9,29) (9,28) (9,30) (9,24) (10,13) (10,20) (10,14) (10,22) (11,31) (12,13) (12,23) (12,27) (12,26) (13,29) (13,32) (13,14) (13,28) (13,30) (13,24) (14,17) (14,30) (14,22) (14,27) (15,16) (15,31) (15,33) (17,32) (17,20) (17,19) (17,27) (17,24) (17,26) (18,21) (20,28) (20,30) (20,25) (21,31) (22,32) (22,28) (22,30) (23,28) (23,25) (23,27) (24,29) (24,28) (24,26) (25,32) (26,29) (26,27) (27,32) (27,30) (28,32) (28,30)\\nQ: Is there a path between node 14 and node 2?\\nA:', 'answer': 'yes.'}\n"
     ]
    }
   ],
   "source": [
    "print(len(datas))\n",
    "print(len(gt))\n",
    "print(gt[0])"
   ]
  },
  {
   "cell_type": "code",
   "execution_count": 5,
   "metadata": {},
   "outputs": [
    {
     "name": "stdout",
     "output_type": "stream",
     "text": [
      "1861\n",
      "1861\n"
     ]
    }
   ],
   "source": [
    "import re\n",
    "import io\n",
    "import sys\n",
    "print(len(gt))\n",
    "print(len(datas))"
   ]
  },
  {
   "cell_type": "code",
   "execution_count": 6,
   "metadata": {},
   "outputs": [
    {
     "name": "stdout",
     "output_type": "stream",
     "text": [
      "Determine if there is a path between two nodes in the graph. Note that (i,j) means that node i and node j are connected with an undirected edge.\n",
      "Graph: (0,1) (0,7) (0,6) (1,7) (1,5) (1,6) (2,8) (2,4) (2,3) (3,8) (5,7) (6,7)\n",
      "Q: Is there a path between node 1 and node 7?\n",
      "A:\n",
      "```python\n",
      "import re\n",
      "import networkx as nx\n",
      "\n",
      "# Graph description\n",
      "graph = \"(0,1) (0,7) (0,6) (1,7) (1,5) (1,6) (2,8) (2,4) (2,3) (3,8) (5,7) (6,7)\"\n",
      "\n",
      "# Regular expression to extract edges\n",
      "pattern = r\"\\((\\d+),(\\d+)\\)\"\n",
      "\n",
      "# Create an undirected graph\n",
      "G = nx.Graph()\n",
      "\n",
      "# Find all matches in the graph\n",
      "matches = re.findall(pattern, graph)\n",
      "\n",
      "# Add edges to the graph\n",
      "for i, j in matches:\n",
      "    G.add_edge(int(i), int(j))\n",
      "\n",
      "# Check if there is a path between node 1 and node 7\n",
      "source = 1\n",
      "target = 7\n",
      "path_exists = nx.has_path(G, source, target)\n",
      "print(path_exists)\n",
      "```\n",
      "yes.\n"
     ]
    }
   ],
   "source": [
    "print(gt[2]['input_prompt'])\n",
    "print(datas[2]['code'])\n",
    "print(gt[2]['answer'])\n"
   ]
  },
  {
   "cell_type": "code",
   "execution_count": 14,
   "metadata": {},
   "outputs": [],
   "source": [
    "error_cnt = 0\n",
    "correct_cnt = 0\n",
    "for i, data in enumerate(datas):\n",
    "    text = data['code']\n",
    "    code = re.sub(r'^```python\\n|```$', '', text, flags=re.MULTILINE)\n",
    "    ans = gt[i]['answer']\n",
    "\n",
    "    # 创建一个 StringIO 对象来捕获输出\n",
    "    output = io.StringIO()\n",
    "\n",
    "    # 重定向 sys.stdout\n",
    "    old_stdout = sys.stdout\n",
    "    sys.stdout = output\n",
    "\n",
    "    try:\n",
    "        exec(code, globals(), globals())\n",
    "    except:\n",
    "        sys.stdout = old_stdout\n",
    "        #print(code)\n",
    "        error_cnt = error_cnt + 1\n",
    "        continue\n",
    "    finally:\n",
    "        sys.stdout = old_stdout\n",
    "    \n",
    "\n",
    "    # 获取输出内容\n",
    "    output_content = output.getvalue()\n",
    "    output_content = str(output_content).strip()\n",
    "    # print(\"Captured Output:\")\n",
    "    # print(output_content)\n",
    "    if output_content == 'True':\n",
    "        output_content = 'yes'\n",
    "    elif output_content == 'False':                                 \n",
    "        output_content = 'no'\n",
    "    \n",
    "    # print(f'llm={output_content} gt={ans}')\n",
    "        \n",
    "    if output_content.strip() == str(ans).split('.')[0].strip():\n",
    "        correct_cnt = correct_cnt + 1\n",
    "        # print(gt[int(i)]['input_prompt'])\n",
    "        # print(code)\n",
    "    else:\n",
    "        print(gt[int(i)]['input_prompt'])\n",
    "        print(output_content,ans)\n",
    "        print(code)"
   ]
  },
  {
   "cell_type": "code",
   "execution_count": 15,
   "metadata": {},
   "outputs": [
    {
     "name": "stdout",
     "output_type": "stream",
     "text": [
      "224\n",
      "1637\n"
     ]
    }
   ],
   "source": [
    "print(error_cnt)\n",
    "print(correct_cnt)"
   ]
  },
  {
   "cell_type": "code",
   "execution_count": 16,
   "metadata": {},
   "outputs": [
    {
     "name": "stdout",
     "output_type": "stream",
     "text": [
      "0.8796346050510478\n"
     ]
    }
   ],
   "source": [
    "print(correct_cnt/len(gt))"
   ]
  },
  {
   "cell_type": "code",
   "execution_count": 25,
   "metadata": {},
   "outputs": [
    {
     "name": "stdout",
     "output_type": "stream",
     "text": [
      "6\n"
     ]
    }
   ],
   "source": [
    "import re\n",
    "import networkx as nx\n",
    "\n",
    "# Graph description\n",
    "graph = \"The nodes are numbered from 0 to 12, and the edges are: (0, 8) (0, 12) (1, 4) (1, 12) (2, 11) (2, 10) (3, 6) (3, 7) (3, 12) (3, 9) (5, 11) (7, 10) (7, 9) (8, 12).\"\n",
    "\n",
    "# Regular expression to extract directed edges\n",
    "pattern = r\"\\((\\d+), (\\d+)\\)\"\n",
    "\n",
    "# Create a directed graph\n",
    "G = nx.Graph()\n",
    "\n",
    "# Find all matches in the text\n",
    "matches = re.findall(pattern, graph)\n",
    "\n",
    "# Add edges to the graph\n",
    "for i, j in matches:\n",
    "    G.add_edge(int(i), int(j))\n",
    "\n",
    "# Calculate shortest path length\n",
    "length = nx.shortest_path_length(G, source=12, target=5)\n",
    "print(length)\n"
   ]
  }
 ],
 "metadata": {
  "kernelspec": {
   "display_name": "base",
   "language": "python",
   "name": "python3"
  },
  "language_info": {
   "codemirror_mode": {
    "name": "ipython",
    "version": 3
   },
   "file_extension": ".py",
   "mimetype": "text/x-python",
   "name": "python",
   "nbconvert_exporter": "python",
   "pygments_lexer": "ipython3",
   "version": "3.12.4"
  }
 },
 "nbformat": 4,
 "nbformat_minor": 2
}
