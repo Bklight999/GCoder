{
 "cells": [
  {
   "cell_type": "code",
   "execution_count": 1,
   "metadata": {},
   "outputs": [],
   "source": [
    "import json\n",
    "\n",
    "with open('shortest_result.json', 'r', encoding='utf-8') as f:\n",
    "    datas=json.load(f)"
   ]
  },
  {
   "cell_type": "code",
   "execution_count": 32,
   "metadata": {},
   "outputs": [],
   "source": [
    "with open('shortest_test.json','r') as f:\n",
    "    gt = json.load(f)"
   ]
  },
  {
   "cell_type": "code",
   "execution_count": 33,
   "metadata": {},
   "outputs": [
    {
     "name": "stdout",
     "output_type": "stream",
     "text": [
      "316\n",
      "316\n",
      "{'input_prompt': 'In an undirected graph, the nodes are numbered from 0 to 4, and the edges are:\\nan edge between node 0 and node 1 with weight 4,\\nan edge between node 0 and node 3 with weight 4,\\nan edge between node 0 and node 2 with weight 3,\\nan edge between node 0 and node 4 with weight 1,\\nan edge between node 1 and node 3 with weight 3,\\nan edge between node 1 and node 4 with weight 1,\\nan edge between node 2 and node 3 with weight 3,\\nan edge between node 2 and node 4 with weight 2,\\nan edge between node 3 and node 4 with weight 1.\\nQ: Give the shortest path lengh from node 1 to node 2.\\nA:', 'answer': ' 3'}\n"
     ]
    }
   ],
   "source": [
    "print(len(datas))\n",
    "print(len(gt))\n",
    "print(gt[0])"
   ]
  },
  {
   "cell_type": "code",
   "execution_count": 34,
   "metadata": {},
   "outputs": [
    {
     "name": "stdout",
     "output_type": "stream",
     "text": [
      "316\n",
      "316\n"
     ]
    }
   ],
   "source": [
    "import re\n",
    "import io\n",
    "import sys\n",
    "print(len(gt))\n",
    "print(len(datas))"
   ]
  },
  {
   "cell_type": "code",
   "execution_count": 35,
   "metadata": {},
   "outputs": [
    {
     "name": "stdout",
     "output_type": "stream",
     "text": [
      "In an undirected graph, the nodes are numbered from 0 to 11, and the edges are:\n",
      "an edge between node 0 and node 3 with weight 9,\n",
      "an edge between node 0 and node 9 with weight 1,\n",
      "an edge between node 0 and node 10 with weight 7,\n",
      "an edge between node 0 and node 4 with weight 9,\n",
      "an edge between node 1 and node 2 with weight 3,\n",
      "an edge between node 1 and node 7 with weight 3,\n",
      "an edge between node 2 and node 3 with weight 3,\n",
      "an edge between node 2 and node 9 with weight 6,\n",
      "an edge between node 2 and node 10 with weight 6,\n",
      "an edge between node 2 and node 7 with weight 7,\n",
      "an edge between node 2 and node 8 with weight 1,\n",
      "an edge between node 3 and node 7 with weight 7,\n",
      "an edge between node 4 and node 9 with weight 10,\n",
      "an edge between node 5 and node 7 with weight 2,\n",
      "an edge between node 5 and node 11 with weight 9,\n",
      "an edge between node 6 and node 7 with weight 6,\n",
      "an edge between node 7 and node 8 with weight 5,\n",
      "an edge between node 9 and node 11 with weight 7.\n",
      "Q: Give the shortest path lengh from node 11 to node 10.\n",
      "A:\n",
      "```python\n",
      "import re\n",
      "import networkx as nx\n",
      "\n",
      "graph = \"In an undirected graph, the nodes are numbered from 0 to 11, and the edges are: an edge between node 0 and node 3 with weight 9, an edge between node 0 and node 9 with weight 1, an edge between node 0 and node 10 with weight 7, an edge between node 0 and node 4 with weight 9, an edge between node 1 and node 2 with weight 3, an edge between node 1 and node 7 with weight 3, an edge between node 2 and node 3 with weight 3, an edge between node 2 and node 9 with weight 6, an edge between node 2 and node 10 with weight 6, an edge between node 2 and node 7 with weight 7, an edge between node 2 and node 8 with weight 1, an edge between node 3 and node 7 with weight 7, an edge between node 4 and node 9 with weight 10, an edge between node 5 and node 7 with weight 2, an edge between node 5 and node 11 with weight 9, an edge between node 6 and node 7 with weight 6, an edge between node 7 and node 8 with weight 5, an edge between node 9 and node 11 with weight 7.\"\n",
      "\n",
      "# Regular expression to extract edges with weights\n",
      "pattern = r'an edge between node (\\d+) and node (\\d+) with weight (\\d+)'\n",
      "matches = re.findall(pattern, graph)\n",
      "\n",
      "# Create an undirected graph\n",
      "G = nx.Graph()\n",
      "\n",
      "# Add edges with weights to the graph\n",
      "for node1, node2, weight in matches:\n",
      "    G.add_edge(int(node1), int(node2), weight=int(weight))\n",
      "\n",
      "# Calculate the shortest path length from node 11 to node 10\n",
      "shortest_path_length = nx.shortest_path_length(G, source=11, target=10, weight='weight')\n",
      "print(shortest_path_length)\n",
      "```\n",
      " 15\n"
     ]
    }
   ],
   "source": [
    "print(gt[2]['input_prompt'])\n",
    "print(datas[2]['code'])\n",
    "print(gt[2]['answer'])\n"
   ]
  },
  {
   "cell_type": "code",
   "execution_count": 37,
   "metadata": {},
   "outputs": [],
   "source": [
    "error_cnt = 0\n",
    "correct_cnt = 0\n",
    "for i, data in enumerate(datas):\n",
    "    text = data['code']\n",
    "    code = re.sub(r'^```python\\n|```$', '', text, flags=re.MULTILINE)\n",
    "    ans = gt[i]['answer']\n",
    "\n",
    "    # 创建一个 StringIO 对象来捕获输出\n",
    "    output = io.StringIO()\n",
    "\n",
    "    # 重定向 sys.stdout\n",
    "    old_stdout = sys.stdout\n",
    "    sys.stdout = output\n",
    "\n",
    "    try:\n",
    "        exec(code, globals(), globals())\n",
    "    except:\n",
    "        sys.stdout = old_stdout\n",
    "        #print(code)\n",
    "        error_cnt = error_cnt + 1\n",
    "        continue\n",
    "    finally:\n",
    "        sys.stdout = old_stdout\n",
    "    \n",
    "\n",
    "    # 获取输出内容\n",
    "    output_content = output.getvalue()\n",
    "    output_content = str(output_content).strip()\n",
    "    # print(\"Captured Output:\")\n",
    "    # print(output_content)\n",
    "    \n",
    "    \n",
    "    # print(f'llm={output_content} gt={ans}')\n",
    "        \n",
    "    if output_content.strip() == str(ans).strip():\n",
    "        correct_cnt = correct_cnt + 1\n",
    "        # print(gt[int(i)]['input_prompt'])\n",
    "        # print(code)\n",
    "    else:\n",
    "        print(gt[int(i)]['input_prompt'])\n",
    "        print(output_content,ans)\n",
    "        print(code)"
   ]
  },
  {
   "cell_type": "code",
   "execution_count": 38,
   "metadata": {},
   "outputs": [
    {
     "name": "stdout",
     "output_type": "stream",
     "text": [
      "0\n",
      "316\n"
     ]
    }
   ],
   "source": [
    "print(error_cnt)\n",
    "print(correct_cnt)"
   ]
  },
  {
   "cell_type": "code",
   "execution_count": 39,
   "metadata": {},
   "outputs": [
    {
     "name": "stdout",
     "output_type": "stream",
     "text": [
      "1.0\n"
     ]
    }
   ],
   "source": [
    "print(correct_cnt/len(gt))"
   ]
  },
  {
   "cell_type": "code",
   "execution_count": 25,
   "metadata": {},
   "outputs": [
    {
     "name": "stdout",
     "output_type": "stream",
     "text": [
      "6\n"
     ]
    }
   ],
   "source": [
    "import re\n",
    "import networkx as nx\n",
    "\n",
    "# Graph description\n",
    "graph = \"The nodes are numbered from 0 to 12, and the edges are: (0, 8) (0, 12) (1, 4) (1, 12) (2, 11) (2, 10) (3, 6) (3, 7) (3, 12) (3, 9) (5, 11) (7, 10) (7, 9) (8, 12).\"\n",
    "\n",
    "# Regular expression to extract directed edges\n",
    "pattern = r\"\\((\\d+), (\\d+)\\)\"\n",
    "\n",
    "# Create a directed graph\n",
    "G = nx.Graph()\n",
    "\n",
    "# Find all matches in the text\n",
    "matches = re.findall(pattern, graph)\n",
    "\n",
    "# Add edges to the graph\n",
    "for i, j in matches:\n",
    "    G.add_edge(int(i), int(j))\n",
    "\n",
    "# Calculate shortest path length\n",
    "length = nx.shortest_path_length(G, source=12, target=5)\n",
    "print(length)\n"
   ]
  }
 ],
 "metadata": {
  "kernelspec": {
   "display_name": "base",
   "language": "python",
   "name": "python3"
  },
  "language_info": {
   "codemirror_mode": {
    "name": "ipython",
    "version": 3
   },
   "file_extension": ".py",
   "mimetype": "text/x-python",
   "name": "python",
   "nbconvert_exporter": "python",
   "pygments_lexer": "ipython3",
   "version": "3.12.4"
  }
 },
 "nbformat": 4,
 "nbformat_minor": 2
}
