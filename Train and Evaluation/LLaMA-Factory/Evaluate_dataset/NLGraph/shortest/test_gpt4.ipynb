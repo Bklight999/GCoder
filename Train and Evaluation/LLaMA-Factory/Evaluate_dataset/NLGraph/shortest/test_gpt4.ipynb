{
 "cells": [
  {
   "cell_type": "code",
   "execution_count": 1,
   "metadata": {},
   "outputs": [],
   "source": [
    "import json\n",
    "task = 'shortest'\n",
    "filename = task+'_result_gpt4.json'\n",
    "with open(filename, 'r', encoding='utf-8') as f:\n",
    "    datas=json.load(f)"
   ]
  },
  {
   "cell_type": "code",
   "execution_count": 2,
   "metadata": {},
   "outputs": [],
   "source": [
    "filename1 = task+'_test.json'\n",
    "with open(filename1, 'r', encoding='utf-8') as f:\n",
    "    gt=json.load(f)"
   ]
  },
  {
   "cell_type": "code",
   "execution_count": 3,
   "metadata": {},
   "outputs": [
    {
     "name": "stdout",
     "output_type": "stream",
     "text": [
      "316\n",
      "316\n",
      "{'input_prompt': 'In an undirected graph, the nodes are numbered from 0 to 4, and the edges are:\\nan edge between node 0 and node 1 with weight 4,\\nan edge between node 0 and node 3 with weight 4,\\nan edge between node 0 and node 2 with weight 3,\\nan edge between node 0 and node 4 with weight 1,\\nan edge between node 1 and node 3 with weight 3,\\nan edge between node 1 and node 4 with weight 1,\\nan edge between node 2 and node 3 with weight 3,\\nan edge between node 2 and node 4 with weight 2,\\nan edge between node 3 and node 4 with weight 1.\\nQ: Give the shortest path lengh from node 1 to node 2.\\nA:', 'answer': ' 3'}\n"
     ]
    }
   ],
   "source": [
    "print(len(datas))\n",
    "print(len(gt))\n",
    "print(gt[0])"
   ]
  },
  {
   "cell_type": "code",
   "execution_count": 4,
   "metadata": {},
   "outputs": [],
   "source": [
    "import re\n",
    "import io\n",
    "import sys\n"
   ]
  },
  {
   "cell_type": "code",
   "execution_count": 15,
   "metadata": {},
   "outputs": [
    {
     "name": "stdout",
     "output_type": "stream",
     "text": [
      "inf  14\n",
      "inf  33\n",
      "inf  13\n",
      "inf  17\n",
      "inf  8\n",
      "inf  10\n",
      "inf  12\n",
      "inf  4\n",
      "inf  3\n",
      "inf  3\n",
      "inf  4\n",
      "inf  17\n",
      "16  14\n",
      "inf  3\n",
      "inf  36\n",
      "inf  15\n",
      "inf  15\n",
      "import heapq\n",
      "\n",
      "def dijkstra(graph, start, end):\n",
      "    queue = [(0, start)]\n",
      "    distances = {node: float('inf') for node in graph}\n",
      "    distances[start] = 0\n",
      "    while queue:\n",
      "        current_distance, current_node = heapq.heappop(queue)\n",
      "        if current_distance > distances[current_node]:\n",
      "            continue\n",
      "        for neighbor, weight in graph[current_node]:\n",
      "            distance = current_distance + weight\n",
      "            if distance < distances[neighbor]:\n",
      "                distances[neighbor] = distance\n",
      "                heapq.heappush(queue, (distance, neighbor))\n",
      "    return distances[end]\n",
      "\n",
      "graph = {\n",
      "    0: [(1, 8), (11, 8), (8, 3), (16, 8), (5, 4), (19, 6), (13, 2), (18, 7), (4, 7)],\n",
      "    1: [(9, 2), (3, 7), (11, 9), (8, 9), (15, 5), (5, 2), (19, 5), (13, 5), (7, 9), (2, 4)],\n",
      "    2: [(12, 10)],\n",
      "    3: [(16, 7), (10, 3), (7, 2)],\n",
      "    4: [(9, 3), (8, 7), (15, 3), (17, 6), (13, 1)],\n",
      "    5: [(16, 6), (18, 5), (6, 1)],\n",
      "    6: [(17, 1), (10, 10)],\n",
      "    7: [(9, 9), (11, 9), (16, 7), (17, 6), (19, 7), (13, 9), (18, 9)],\n",
      "    8: [(11, 9)],\n",
      "    9: [(16, 5), (12, 3)],\n",
      "    10: [(15, 6)],\n",
      "    11: [(16, 9), (17, 6), (13, 9)],\n",
      "    12: [(14, 6)],\n",
      "    13: [(18, 5)],\n",
      "    16: [(19, 3)],\n",
      "    17: [],\n",
      "    18: [],\n",
      "    19: []\n",
      "}\n",
      "\n",
      "print(dijkstra(graph, 9, 10))\n",
      "\n"
     ]
    }
   ],
   "source": [
    "error_cnt = 0\n",
    "correct_cnt = 0\n",
    "import re\n",
    "for i, (key,value) in enumerate(datas.items()):\n",
    "    text = value['gpt4']\n",
    "    code = re.sub(r'^```python\\n|```$', '', text, flags=re.MULTILINE)\n",
    "    ans = gt[i]['answer']\n",
    "\n",
    "    # 创建一个 StringIO 对象来捕获输出\n",
    "    output = io.StringIO()\n",
    "\n",
    "    # 重定向 sys.stdout\n",
    "    old_stdout = sys.stdout\n",
    "    sys.stdout = output\n",
    "\n",
    "    try:\n",
    "        exec(code, globals(), globals())\n",
    "    except:\n",
    "        sys.stdout = old_stdout\n",
    "        print(code)\n",
    "        error_cnt = error_cnt + 1\n",
    "        continue\n",
    "    finally:\n",
    "        sys.stdout = old_stdout\n",
    "    \n",
    "\n",
    "    # 获取输出内容\n",
    "    output_content = output.getvalue()\n",
    "    output_content = str(output_content).strip()\n",
    "    # print(\"Captured Output:\")\n",
    "    # print(output_content)\n",
    "    \n",
    "\n",
    "    if output_content == ans.strip():\n",
    "         correct_cnt = correct_cnt + 1\n",
    "    else:\n",
    "        #print(code)\n",
    "        print(output_content,ans)\n",
    "        # print(code)"
   ]
  },
  {
   "cell_type": "code",
   "execution_count": 16,
   "metadata": {},
   "outputs": [
    {
     "name": "stdout",
     "output_type": "stream",
     "text": [
      "1\n",
      "298\n"
     ]
    }
   ],
   "source": [
    "print(error_cnt)\n",
    "print(correct_cnt)"
   ]
  },
  {
   "cell_type": "code",
   "execution_count": 17,
   "metadata": {},
   "outputs": [
    {
     "name": "stdout",
     "output_type": "stream",
     "text": [
      "0.9430379746835443\n"
     ]
    }
   ],
   "source": [
    "print(correct_cnt/len(datas))\n",
    "#max tokens是"
   ]
  },
  {
   "cell_type": "code",
   "execution_count": 22,
   "metadata": {},
   "outputs": [
    {
     "name": "stdout",
     "output_type": "stream",
     "text": [
      "1,3,5,2,4\n"
     ]
    }
   ],
   "source": [
    "import re\n",
    "output_content = \"[1,3,5,2,4]\"\n",
    "pattern = r\"[\\{\\[]([^}\\]]*)[\\}\\]]\"\n",
    "match1 = re.search(pattern, output_content)\n",
    "\n",
    "\n",
    "if match1:\n",
    "    content_output = match1.group(1)\n",
    "    \n",
    "print(content_output)"
   ]
  },
  {
   "cell_type": "code",
   "execution_count": 24,
   "metadata": {},
   "outputs": [
    {
     "name": "stdout",
     "output_type": "stream",
     "text": [
      "0, 1, 2, 3, 4, 10, 7\n",
      "[0, 1, 2, 3, 4, 7, 10]\n"
     ]
    }
   ],
   "source": [
    "import re\n",
    "\n",
    "text = \"{0, 1, 2, 3, 4, 10, 7}\"\n",
    "pattern = r\"[\\{\\[]([^}\\]]*)[\\}\\]]\"\n",
    "match = re.search(pattern, text)\n",
    "\n",
    "if match:\n",
    "    content = match.group(1)\n",
    "    print(content)  # 输出: 0, 1, 2, 3, 4, 6, 7\n",
    "    numbers = list(map(int, content.split(',')))\n",
    "    numbers.sort()\n",
    "    print(numbers)"
   ]
  }
 ],
 "metadata": {
  "kernelspec": {
   "display_name": "base",
   "language": "python",
   "name": "python3"
  },
  "language_info": {
   "codemirror_mode": {
    "name": "ipython",
    "version": 3
   },
   "file_extension": ".py",
   "mimetype": "text/x-python",
   "name": "python",
   "nbconvert_exporter": "python",
   "pygments_lexer": "ipython3",
   "version": "3.12.4"
  }
 },
 "nbformat": 4,
 "nbformat_minor": 2
}
