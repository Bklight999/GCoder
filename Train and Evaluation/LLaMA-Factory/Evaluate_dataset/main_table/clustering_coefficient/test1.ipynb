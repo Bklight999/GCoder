{
 "cells": [
  {
   "cell_type": "code",
   "execution_count": 10,
   "metadata": {},
   "outputs": [],
   "source": [
    "import json\n",
    "task = 'clustering_coefficient'\n",
    "# filename = task+'_result_v1_qwen.json'\n",
    "filename = task+'_result_qwen_dpo_novel.json'\n",
    "with open(filename, 'r', encoding='utf-8') as f:\n",
    "    datas=json.load(f)"
   ]
  },
  {
   "cell_type": "code",
   "execution_count": 11,
   "metadata": {},
   "outputs": [],
   "source": [
    "filename1 = task+'_test.json'\n",
    "with open(filename1, 'r', encoding='utf-8') as f:\n",
    "    gt=json.load(f)"
   ]
  },
  {
   "cell_type": "code",
   "execution_count": 12,
   "metadata": {},
   "outputs": [
    {
     "name": "stdout",
     "output_type": "stream",
     "text": [
      "300\n",
      "300\n",
      "{'input_prompt': 'Given an undirected graph as follows:\\nNode 5 is connected to nodes 10, 8, 9, 2, 6.\\nNode 10 is connected to nodes 5, 6, 1, 0.\\nNode 8 is connected to nodes 5, 0, 6, 1, 3.\\nNode 9 is connected to nodes 5, 2, 4, 7.\\nNode 2 is connected to nodes 5, 0, 4, 9.\\nNode 6 is connected to nodes 5, 10, 8, 7.\\nNode 1 is connected to nodes 10, 8, 3.\\nNode 0 is connected to nodes 10, 8, 2.\\nNode 3 is connected to nodes 8, 1, 7, 4.\\nNode 7 is connected to nodes 3, 4, 9, 6.\\nNode 4 is connected to nodes 3, 2, 7, 9.\\nWhat is the clustering coefficient of node 6?', 'answer': 0.3333}\n"
     ]
    }
   ],
   "source": [
    "print(len(datas))\n",
    "print(len(gt))\n",
    "print(gt[0])"
   ]
  },
  {
   "cell_type": "code",
   "execution_count": 13,
   "metadata": {},
   "outputs": [],
   "source": [
    "import re\n",
    "import io\n",
    "import sys\n"
   ]
  },
  {
   "cell_type": "code",
   "execution_count": 14,
   "metadata": {},
   "outputs": [
    {
     "name": "stdout",
     "output_type": "stream",
     "text": [
      "```python\n",
      "import networkx as nx\n",
      "\n",
      "# Create an undirected graph\n",
      "G = nx.Graph()\n",
      "\n",
      "# Add edges based on the given connections\n",
      "edges = [\n",
      "    (9, 14), (9, 0), (9, 2), (9, 7), (9, 3), (9, 6), (9, 13), (9, 11),\n",
      "    (14, 0), (14, 2), (14, 10), (14, 4), (14, 6), (14, 13),\n",
      "    (0, 12), (0, 2), (0, 13), (0, 8),\n",
      "    (2, 1), (2, 6), (2, 11),\n",
      "    (7, 12), (7, 10), (7, 3), (7, 6), (7, 8),\n",
      "    (3, 5), (3, 7), (3, 10), (3, 1), (3, 4), (3, 8), (3, 11),\n",
      "    (6, 5), (6, 12), (6, 2), (6, 7), (6, 4), (6, 8),\n",
      "    (13, 10), (13, 4), (13, 11),\n",
      "    (11, 12), (11, 2), (11, 10), (11, 3), (11, 1), (11, 13), (11, 8),\n",
      "    (5, 1), (5, 6), (5, 8),\n",
      "    (1, 10), (1, 3), (1, 4), (1, 11),\n",
      "    (8, 5), (8, 12), (8, 0), (8, 7), (8, 3), (8, 4), (8, 6), (8, 11),\n",
      "    (10, 12), (10, 7), (10, 3), (10, 1), (10, 4), (10, 13), (10, 11),\n",
      "    (4, 12), (4, 10), (4, 6), (4, 1), (4, 8)\n",
      "]\n",
      "\n",
      "G.add_edges_from(edges)\n",
      "\n",
      "# Calculate the clustering coefficient of node 4\n",
      "clustering_coefficient = nx.clustering(G, 4)\n",
      "\n",
      "print(f\"The clustering coefficient of node 4 is: {clustering_coefficient}\")\n",
      "```\n"
     ]
    }
   ],
   "source": [
    "print(datas[28]['code'])"
   ]
  },
  {
   "cell_type": "code",
   "execution_count": 21,
   "metadata": {
    "scrolled": true
   },
   "outputs": [
    {
     "name": "stdout",
     "output_type": "stream",
     "text": [
      "0.35185185185185186 0.5\n",
      "0.6212121212121212 0.7273\n",
      "0.3 0.1667\n",
      "0.3382352941176471 0.1667\n",
      "0.25757575757575757 0.25\n",
      "0.0 0.3333\n",
      "0.3888888888888889 0.3333\n",
      "0.3488372093023256 0.5\n",
      "0.5789473684210527 0.8333\n",
      "0.25 0.3333\n",
      "0.25 0.3333\n",
      "0.8571428571428571 0.8095\n",
      "0.75 0.6667\n",
      "0.36764705882352944 0.1667\n",
      "0.35714285714285715 0.5\n",
      "0.4 0.3333\n",
      "0.25 0.5\n",
      "0.5833333333333334 0.6667\n",
      "0.16666666666666666 0.3333\n",
      "0.27906976744186046 0.2381\n",
      "0.7272727272727273 0.7636\n",
      "0.5277777777777778 0.5833\n",
      "0.2 0.2857\n",
      "0.3333333333333333 1.0\n",
      "0.6666666666666666 0.8\n",
      "0.4090909090909091 0.5\n",
      "0.0 0.3\n",
      "0.16666666666666666 0.0\n",
      "0.803030303030303 0.7111\n",
      "0.26666666666666666 0.2\n",
      "0.4326923076923077 0.45\n",
      "0.2857142857142857 0.25\n",
      "0.4431818181818182 0.25\n",
      "0.525 0.55\n",
      "0.2 0.3333\n",
      "0.21428571428571427 0.0\n",
      "0.6944444444444444 0.6389\n",
      "0.5357142857142857 0.3333\n",
      "0.4 0.3333\n",
      "0.4230769230769231 0.5\n",
      "0.325 0.25\n",
      "0.25 0.3333\n",
      "0.2 0.5\n",
      "0.375 0.5\n",
      "0.425 0.3333\n",
      "0.5555555555555556 0.6667\n",
      "0.25 0.0\n",
      "0.5357142857142857 0.6\n",
      "0.52 0.6667\n",
      "0.39285714285714285 0.5\n",
      "0.35 0.5\n",
      "0.6785714285714286 0.6\n",
      "0.23684210526315788 0.3333\n",
      "0.75 0.7143\n",
      "0.25 0.0\n",
      "0.3333333333333333 0.0\n"
     ]
    }
   ],
   "source": [
    "error_cnt = 0\n",
    "correct_cnt = 0\n",
    "for i, data in enumerate(datas):\n",
    "    text = data['code']\n",
    "    code = re.sub(r'^```python\\n|```$', '', text, flags=re.MULTILINE)\n",
    "    ans = gt[i]['answer']\n",
    "\n",
    "    # 创建一个 StringIO 对象来捕获输出\n",
    "    output = io.StringIO()\n",
    "\n",
    "    # 重定向 sys.stdout\n",
    "    old_stdout = sys.stdout\n",
    "    sys.stdout = output\n",
    "\n",
    "    try:\n",
    "        exec(code, globals(), globals())\n",
    "    except:\n",
    "        sys.stdout = old_stdout\n",
    "        # print(code)\n",
    "        error_cnt = error_cnt + 1\n",
    "        continue\n",
    "    finally:\n",
    "        sys.stdout = old_stdout\n",
    "    \n",
    "\n",
    "    # 获取输出内容\n",
    "    output_content = output.getvalue()\n",
    "    output_content = str(output_content).strip()\n",
    "    # print(\"Captured Output:\")\n",
    "    #print(output_content)\n",
    "    \n",
    "    if ':' in output_content:\n",
    "        output_content = output_content.split(\":\")[1].strip()\n",
    "    \n",
    "    \n",
    "    # print(f'llm={output_content} gt={ans}')\n",
    "    try:\n",
    "        output_content = float(output_content)\n",
    "        if round(output_content, 1) == round(ans, 1):\n",
    "            correct_cnt = correct_cnt + 1\n",
    "        else:\n",
    "            #print(code)\n",
    "            print(output_content,ans)\n",
    "            #print(code)\n",
    "    except:\n",
    "        print(output_content)"
   ]
  },
  {
   "cell_type": "code",
   "execution_count": 22,
   "metadata": {},
   "outputs": [
    {
     "name": "stdout",
     "output_type": "stream",
     "text": [
      "10\n",
      "234\n"
     ]
    }
   ],
   "source": [
    "print(error_cnt)\n",
    "print(correct_cnt)"
   ]
  },
  {
   "cell_type": "code",
   "execution_count": 23,
   "metadata": {},
   "outputs": [
    {
     "name": "stdout",
     "output_type": "stream",
     "text": [
      "0.78\n"
     ]
    }
   ],
   "source": [
    "print(correct_cnt/len(datas))\n",
    "#max tokens是"
   ]
  },
  {
   "cell_type": "code",
   "execution_count": null,
   "metadata": {},
   "outputs": [],
   "source": []
  }
 ],
 "metadata": {
  "kernelspec": {
   "display_name": "Python 3 (ipykernel)",
   "language": "python",
   "name": "python3"
  },
  "language_info": {
   "codemirror_mode": {
    "name": "ipython",
    "version": 3
   },
   "file_extension": ".py",
   "mimetype": "text/x-python",
   "name": "python",
   "nbconvert_exporter": "python",
   "pygments_lexer": "ipython3",
   "version": "3.12.4"
  }
 },
 "nbformat": 4,
 "nbformat_minor": 4
}
