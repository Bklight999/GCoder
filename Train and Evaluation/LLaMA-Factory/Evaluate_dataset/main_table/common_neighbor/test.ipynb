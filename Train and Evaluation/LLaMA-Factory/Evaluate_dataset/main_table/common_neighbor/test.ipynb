{
 "cells": [
  {
   "cell_type": "code",
   "execution_count": 8,
   "metadata": {},
   "outputs": [],
   "source": [
    "import pandas as pd\n",
    "\n",
    "task_name = 'common_neighbor'\n",
    "# 读取 CSV 文件\n",
    "file_path = task_name+'-int_id.csv'\n",
    "df = pd.read_csv(file_path)\n"
   ]
  },
  {
   "cell_type": "code",
   "execution_count": 9,
   "metadata": {},
   "outputs": [
    {
     "name": "stdout",
     "output_type": "stream",
     "text": [
      "85\n"
     ]
    }
   ],
   "source": [
    "cnt = 0\n",
    "datas=[]\n",
    "for index, row in df.iterrows():\n",
    "    if str(row['directed']).lower() == 'false':\n",
    "        input_prompt = 'Given an undirected graph as follows:\\n' + row['graph_nl'] + \"\\n\" + row['question']\n",
    "    elif str(row['directed']).lower() == 'true':\n",
    "        input_prompt = 'Given a directed graph as follows:\\n' + row['graph_nl'] + \"\\n\" + row['question']\n",
    "        cnt = cnt + 1\n",
    "        continue\n",
    "    \n",
    "    answer = row['answer']\n",
    "    datas.append({\n",
    "        'input_prompt':input_prompt,\n",
    "        'answer':answer\n",
    "    })\n",
    "print(cnt)"
   ]
  },
  {
   "cell_type": "code",
   "execution_count": 10,
   "metadata": {},
   "outputs": [
    {
     "name": "stdout",
     "output_type": "stream",
     "text": [
      "215\n"
     ]
    }
   ],
   "source": [
    "print(len(datas))"
   ]
  },
  {
   "cell_type": "code",
   "execution_count": 11,
   "metadata": {},
   "outputs": [],
   "source": [
    "import json\n",
    "filename = task_name+\"_test.json\"\n",
    "with open(filename,'w') as f:\n",
    "    json.dump(datas,f)"
   ]
  }
 ],
 "metadata": {
  "kernelspec": {
   "display_name": "base",
   "language": "python",
   "name": "python3"
  },
  "language_info": {
   "codemirror_mode": {
    "name": "ipython",
    "version": 3
   },
   "file_extension": ".py",
   "mimetype": "text/x-python",
   "name": "python",
   "nbconvert_exporter": "python",
   "pygments_lexer": "ipython3",
   "version": "3.12.4"
  }
 },
 "nbformat": 4,
 "nbformat_minor": 2
}
