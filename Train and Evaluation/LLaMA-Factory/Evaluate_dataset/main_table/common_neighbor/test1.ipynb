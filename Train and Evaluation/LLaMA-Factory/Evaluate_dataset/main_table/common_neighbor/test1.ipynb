{
 "cells": [
  {
   "cell_type": "code",
   "execution_count": 1,
   "metadata": {},
   "outputs": [],
   "source": [
    "import json\n",
    "task = 'common_neighbor'\n",
    "filename = task+'_result_v1_qwen.json'\n",
    "with open(filename, 'r', encoding='utf-8') as f:\n",
    "    datas=json.load(f)"
   ]
  },
  {
   "cell_type": "code",
   "execution_count": 2,
   "metadata": {},
   "outputs": [],
   "source": [
    "filename1 = task+'_test.json'\n",
    "with open(filename1, 'r', encoding='utf-8') as f:\n",
    "    gt=json.load(f)"
   ]
  },
  {
   "cell_type": "code",
   "execution_count": 3,
   "metadata": {},
   "outputs": [
    {
     "name": "stdout",
     "output_type": "stream",
     "text": [
      "215\n",
      "215\n",
      "{'input_prompt': 'Given an undirected graph as follows:\\nNode 7 is connected to nodes 1, 4, 0, 8, 6, 2, 3.\\nNode 1 is connected to nodes 7, 9, 4, 3, 6.\\nNode 4 is connected to nodes 7, 1, 0.\\nNode 0 is connected to nodes 7, 3, 2, 4.\\nNode 8 is connected to nodes 7, 2.\\nNode 6 is connected to nodes 7, 1, 3.\\nNode 2 is connected to nodes 7, 0, 5, 9, 8.\\nNode 3 is connected to nodes 7, 1, 0, 5, 6, 9.\\nNode 9 is connected to nodes 1, 3, 2, 5.\\nNode 5 is connected to nodes 3, 2, 9.\\nCalculate the number of common neighbors of node 8 and node 9. ', 'answer': 1}\n"
     ]
    }
   ],
   "source": [
    "print(len(datas))\n",
    "print(len(gt))\n",
    "print(gt[0])"
   ]
  },
  {
   "cell_type": "code",
   "execution_count": 4,
   "metadata": {},
   "outputs": [],
   "source": [
    "import re\n",
    "import io\n",
    "import sys\n"
   ]
  },
  {
   "cell_type": "code",
   "execution_count": 5,
   "metadata": {},
   "outputs": [
    {
     "name": "stdout",
     "output_type": "stream",
     "text": [
      "```python\n",
      "import re\n",
      "import networkx as nx\n",
      "\n",
      "text = \"\"\"Node 1 is connected to nodes 4, 11, 10, 0.\n",
      "Node 4 is connected to nodes 1, 6.\n",
      "Node 11 is connected to nodes 1, 5, 10, 0, 6.\n",
      "Node 10 is connected to nodes 1, 11, 9, 7, 5, 0.\n",
      "Node 0 is connected to nodes 1, 12, 11, 10, 7.\n",
      "Node 6 is connected to nodes 4, 12, 11, 9, 3, 2.\n",
      "Node 8 is connected to nodes 12, 7, 2, 13.\n",
      "Node 12 is connected to nodes 8, 0, 6.\n",
      "Node 7 is connected to nodes 8, 10, 0, 13.\n",
      "Node 2 is connected to nodes 8, 9, 3, 6.\n",
      "Node 13 is connected to nodes 8, 9, 7.\n",
      "Node 5 is connected to nodes 11, 10, 3.\n",
      "Node 9 is connected to nodes 10, 13, 2, 6.\n",
      "Node 3 is connected to nodes 5, 6, 2.\"\"\"\n",
      "\n",
      "# Regular expression to extract connections\n",
      "pattern = r'Node (\\d+) is connected to nodes? ([\\d, ]+)\\.'\n",
      "matches = re.findall(pattern, text)\n",
      "\n",
      "# Create an undirected graph\n",
      "G = nx.Graph()\n",
      "\n",
      "# Add edges to the graph\n",
      "for node, neighbors in matches:\n",
      "    node = int(node)\n",
      "    neighbors = map(int, neighbors.split(', '))\n",
      "    for neighbor in neighbors:\n",
      "        G.add_edge(node, neighbor)\n",
      "\n",
      "# Calculate the number of common neighbors\n",
      "node1 = 6\n",
      "node2 = 2\n",
      "print(len(list(nx.common_neighbors(G, node1, node2))))\n",
      "```\n",
      "\n",
      "\n"
     ]
    }
   ],
   "source": [
    "print(datas[2]['code'])"
   ]
  },
  {
   "cell_type": "code",
   "execution_count": 6,
   "metadata": {},
   "outputs": [],
   "source": [
    "error_cnt = 0\n",
    "correct_cnt = 0\n",
    "for i, data in enumerate(datas):\n",
    "    text = data['code']\n",
    "    code = re.sub(r'^```python\\n|```$', '', text, flags=re.MULTILINE)\n",
    "    ans = gt[i]['answer']\n",
    "\n",
    "    # 创建一个 StringIO 对象来捕获输出\n",
    "    output = io.StringIO()\n",
    "\n",
    "    # 重定向 sys.stdout\n",
    "    old_stdout = sys.stdout\n",
    "    sys.stdout = output\n",
    "\n",
    "    try:\n",
    "        exec(code, globals(), globals())\n",
    "    except:\n",
    "        sys.stdout = old_stdout\n",
    "        #print(code)\n",
    "        error_cnt = error_cnt + 1\n",
    "        continue\n",
    "    finally:\n",
    "        sys.stdout = old_stdout\n",
    "    \n",
    "\n",
    "    # 获取输出内容\n",
    "    output_content = output.getvalue()\n",
    "    output_content = str(output_content).strip()\n",
    "    # print(\"Captured Output:\")\n",
    "    #print(output_content)\n",
    "    \n",
    "    \n",
    "    # print(f'llm={output_content} gt={ans}')\n",
    "    if output_content == str(ans).strip():\n",
    "        correct_cnt = correct_cnt + 1\n",
    "    else:\n",
    "        #print(code)\n",
    "        print(output_content,ans)\n",
    "        #print(code)"
   ]
  },
  {
   "cell_type": "code",
   "execution_count": 7,
   "metadata": {},
   "outputs": [
    {
     "name": "stdout",
     "output_type": "stream",
     "text": [
      "1\n",
      "214\n"
     ]
    }
   ],
   "source": [
    "print(error_cnt)\n",
    "print(correct_cnt)"
   ]
  },
  {
   "cell_type": "code",
   "execution_count": 8,
   "metadata": {},
   "outputs": [
    {
     "name": "stdout",
     "output_type": "stream",
     "text": [
      "0.9953488372093023\n"
     ]
    }
   ],
   "source": [
    "print(correct_cnt/len(datas))\n",
    "#max tokens是"
   ]
  },
  {
   "cell_type": "code",
   "execution_count": 16,
   "metadata": {},
   "outputs": [
    {
     "name": "stdout",
     "output_type": "stream",
     "text": [
      "[(6, 5), (6, 2), (6, 0), (6, 3), (6, 1), (5, 2), (5, 3), (2, 3), (2, 1), (2, 5), (0, 4), (0, 3), (0, 5), (3, 1), (3, 6), (3, 5), (3, 2), (3, 0), (3, 4), (1, 5), (4, 7), (4, 3), (4, 5), (4, 2), (7, 5), (7, 0)]\n",
      "0.6785714285714286\n"
     ]
    }
   ],
   "source": [
    "import re\n",
    "import networkx as nx\n",
    "\n",
    "# Graph description\n",
    "graph = \"\"\"Node 6 is connected to nodes 5, 2, 0, 3, 1.\n",
    "Node 5 is connected to nodes 2, 3.\n",
    "Node 2 is connected to nodes 3, 1, 5.\n",
    "Node 0 is connected to nodes 4, 3, 5.\n",
    "Node 3 is connected to nodes 1, 6, 5, 2, 0, 4.\n",
    "Node 1 is connected to node 5.\n",
    "Node 4 is connected to nodes 7, 3, 5, 2.\n",
    "Node 7 is connected to nodes 5, 0.\"\"\"\n",
    "\n",
    "# Regular expression to extract connections\n",
    "pattern = r'Node (\\d+) is connected to nodes? ([\\d, ]+)\\.'\n",
    "matches = re.findall(pattern, graph)\n",
    "\n",
    "# Create a directed graph\n",
    "G = nx.DiGraph()\n",
    "\n",
    "# Add edges to the graph\n",
    "for node, neighbors in matches:\n",
    "    node = int(node)\n",
    "    neighbors = map(int, neighbors.split(', '))\n",
    "    for neighbor in neighbors:\n",
    "        G.add_edge(node, neighbor)\n",
    "print(G.edges())\n",
    "# Calculate clustering coefficient for node 6\n",
    "node1 = 6\n",
    "print(nx.clustering(G, node1))"
   ]
  },
  {
   "cell_type": "code",
   "execution_count": 7,
   "metadata": {},
   "outputs": [
    {
     "name": "stdout",
     "output_type": "stream",
     "text": [
      "{9, 3}\n"
     ]
    }
   ],
   "source": [
    "import re\n",
    "import networkx as nx\n",
    "\n",
    "text = \"\"\"Node 1 is connected to nodes 4, 11, 10, 0.\n",
    "Node 4 is connected to nodes 1, 6.\n",
    "Node 11 is connected to nodes 1, 5, 10, 0, 6.\n",
    "Node 10 is connected to nodes 1, 11, 9, 7, 5, 0.\n",
    "Node 0 is connected to nodes 1, 12, 11, 10, 7.\n",
    "Node 6 is connected to nodes 4, 12, 11, 9, 3, 2.\n",
    "Node 8 is connected to nodes 12, 7, 2, 13.\n",
    "Node 12 is connected to nodes 8, 0, 6.\n",
    "Node 7 is connected to nodes 8, 10, 0, 13.\n",
    "Node 2 is connected to nodes 8, 9, 3, 6.\n",
    "Node 13 is connected to nodes 8, 9, 7.\n",
    "Node 5 is connected to nodes 11, 10, 3.\n",
    "Node 9 is connected to nodes 10, 13, 2, 6.\n",
    "Node 3 is connected to nodes 5, 6, 2.\"\"\"\n",
    "\n",
    "# Regular expression to extract connections\n",
    "pattern = r'Node (\\d+) is connected to nodes? ([\\d, ]+)\\.'\n",
    "matches = re.findall(pattern, text)\n",
    "\n",
    "# Create an undirected graph\n",
    "G = nx.Graph()\n",
    "\n",
    "# Add edges to the graph\n",
    "for node, neighbors in matches:\n",
    "    node = int(node)\n",
    "    neighbors = map(int, neighbors.split(', '))\n",
    "    for neighbor in neighbors:\n",
    "        G.add_edge(node, neighbor)\n",
    "\n",
    "# Calculate the number of common neighbors of node 6 and node 2\n",
    "print(nx.common_neighbors(G, 6, 2))"
   ]
  },
  {
   "cell_type": "code",
   "execution_count": 11,
   "metadata": {},
   "outputs": [
    {
     "name": "stdout",
     "output_type": "stream",
     "text": [
      "1\n"
     ]
    }
   ],
   "source": [
    "import re\n",
    "import networkx as nx\n",
    "\n",
    "# Graph description\n",
    "graph = \"\"\"Node 0 is connected to nodes 11, 4, 7, 8, 12.\n",
    "Node 4 is connected to nodes 5, 8, 10.\n",
    "Node 7 is connected to node 9.\n",
    "Node 8 is connected to nodes 11, 5, 7.\n",
    "Node 1 is connected to nodes 10, 0.\n",
    "Node 2 is connected to nodes 11, 6, 8, 12, 0, 3.\n",
    "Node 6 is connected to nodes 8, 12, 10, 3, 1.\n",
    "Node 5 is connected to node 2.\n",
    "Node 9 is connected to nodes 7, 3, 2.\"\"\"\n",
    "\n",
    "# Regular expression to extract connections\n",
    "pattern = r'Node (\\d+) is connected to nodes? ([\\d, ]+)\\.'\n",
    "matches = re.findall(pattern, graph)\n",
    "\n",
    "# Create a directed graph\n",
    "G = nx.Graph()\n",
    "\n",
    "# Add edges to the graph\n",
    "for node, neighbors in matches:\n",
    "    node = int(node)\n",
    "    neighbors = map(int, neighbors.split(', '))\n",
    "    for neighbor in neighbors:\n",
    "        G.add_edge(node, neighbor)\n",
    "\n",
    "# Calculate the number of common neighbors\n",
    "node1 = 9\n",
    "node2 = 3\n",
    "print(len(list(nx.common_neighbors(G, node1, node2))))"
   ]
  }
 ],
 "metadata": {
  "kernelspec": {
   "display_name": "base",
   "language": "python",
   "name": "python3"
  },
  "language_info": {
   "codemirror_mode": {
    "name": "ipython",
    "version": 3
   },
   "file_extension": ".py",
   "mimetype": "text/x-python",
   "name": "python",
   "nbconvert_exporter": "python",
   "pygments_lexer": "ipython3",
   "version": "3.12.4"
  }
 },
 "nbformat": 4,
 "nbformat_minor": 2
}
