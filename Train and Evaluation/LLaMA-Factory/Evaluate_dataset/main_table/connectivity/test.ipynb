{
 "cells": [
  {
   "cell_type": "code",
   "execution_count": 1,
   "metadata": {},
   "outputs": [],
   "source": [
    "import json\n",
    "\n",
    "with open('connectivity_result.json', 'r', encoding='utf-8') as f:\n",
    "    datas=json.load(f)\n"
   ]
  },
  {
   "cell_type": "code",
   "execution_count": 2,
   "metadata": {},
   "outputs": [],
   "source": [
    "def read_json(file_name):\n",
    "    # 存放所有字典的列表\n",
    "    dict_list = []\n",
    "\n",
    "    # 打开文件并逐行读取\n",
    "    with open(file_name, 'r', encoding='utf-8') as file:\n",
    "        for line in file:\n",
    "            # 去掉行末的换行符（如果有）\n",
    "            line = line.strip()\n",
    "            if line:\n",
    "                # 将每行的字符串解析为字典，并添加到列表中\n",
    "                dict_list.append(json.loads(line))\n",
    "    return dict_list\n",
    "\n",
    "gt = read_json('connectivity_test.json')"
   ]
  },
  {
   "cell_type": "code",
   "execution_count": 3,
   "metadata": {},
   "outputs": [],
   "source": [
    "import re\n",
    "import io\n",
    "import sys\n"
   ]
  },
  {
   "cell_type": "code",
   "execution_count": 4,
   "metadata": {},
   "outputs": [
    {
     "name": "stdout",
     "output_type": "stream",
     "text": [
      "Determine whether two nodes are connected in an undirected graph. In an undirected graph, (i,j) means that node i and node j are connected with an undirected edge. Given a graph and a pair of nodes, you need to output Yes or No, indicating whether the node i and node j are connected. Q: The nodes are numbered from 0 to 15, and the edges are: (0, 13) (0, 1) (0, 7) (1, 4) (1, 5) (1, 8) (1, 3) (2, 4) (2, 12) (2, 14) (2, 13) (2, 8) (2, 9) (3, 9) (3, 12) (4, 9) (4, 13) (5, 13) (5, 10) (5, 14) (6, 10) (6, 9) (7, 12) (7, 14) (8, 12) (8, 14) (8, 11) (8, 9) (9, 11) (9, 13) (10, 11) (10, 12) (11, 15) (12, 14) (13, 14). Is there a path between node 11 and node 3?\n",
      "```python\n",
      "import re\n",
      "import networkx as nx\n",
      "\n",
      "# Graph description\n",
      "graph = \"The nodes are numbered from 0 to 15, and the edges are: (0, 13) (0, 1) (0, 7) (1, 4) (1, 5) (1, 8) (1, 3) (2, 4) (2, 12) (2, 14) (2, 13) (2, 8) (2, 9) (3, 9) (3, 12) (4, 9) (4, 13) (5, 13) (5, 10) (5, 14) (6, 10) (6, 9) (7, 12) (7, 14) (8, 12) (8, 14) (8, 11) (8, 9) (9, 11) (9, 13) (10, 11) (10, 12) (11, 15) (12, 14) (13, 14).\"\n",
      "\n",
      "# Regular expression to extract edges\n",
      "pattern = r\"\\((\\d+), (\\d+)\\)\"\n",
      "\n",
      "# Create an undirected graph\n",
      "G = nx.Graph()\n",
      "\n",
      "# Find all matches in the text\n",
      "matches = re.findall(pattern, graph)\n",
      "\n",
      "# Add edges to the graph\n",
      "for i, j in matches:\n",
      "    G.add_edge(int(i), int(j))\n",
      "\n",
      "# Check if there is a path between node 11 and node 3\n",
      "node1 = 11\n",
      "node2 = 3\n",
      "path_exists = nx.has_path(G, node1, node2)\n",
      "print(f\"Is there a path between node {node1} and node {node2}? {path_exists}\")\n",
      "```\n"
     ]
    }
   ],
   "source": [
    "print(gt[2]['input_prompt'])\n",
    "print(datas[2]['code'])"
   ]
  },
  {
   "cell_type": "code",
   "execution_count": 19,
   "metadata": {},
   "outputs": [
    {
     "name": "stdout",
     "output_type": "stream",
     "text": [
      "Exception message: Either source 3 or target 1 is not in G\n",
      "Exception message: Either source 2 or target 0 is not in G\n",
      "Exception message: Either source 1 or target 0 is not in G\n",
      "Exception message: Either source 2 or target 0 is not in G\n",
      "Exception message: Either source 4 or target 2 is not in G\n",
      "Exception message: Either source 1 or target 7 is not in G\n",
      "Exception message: Either source 2 or target 5 is not in G\n",
      "Exception message: Either source 2 or target 0 is not in G\n",
      "Exception message: Either source 1 or target 4 is not in G\n",
      "Exception message: Either source 2 or target 3 is not in G\n",
      "Exception message: Either source 15 or target 2 is not in G\n",
      "Exception message: Either source 3 or target 0 is not in G\n",
      "Exception message: Either source 1 or target 0 is not in G\n",
      "Exception message: Either source 0 or target 2 is not in G\n",
      "Exception message: Either source 0 or target 5 is not in G\n",
      "Exception message: Either source 6 or target 3 is not in G\n",
      "Exception message: Either source 0 or target 2 is not in G\n",
      "Exception message: Either source 1 or target 2 is not in G\n",
      "Exception message: Either source 19 or target 8 is not in G\n",
      "Exception message: Either source 0 or target 26 is not in G\n",
      "Exception message: Either source 31 or target 13 is not in G\n",
      "Exception message: unterminated string literal (detected at line 8) (<string>, line 8)\n",
      "Exception message: unterminated string literal (detected at line 8) (<string>, line 8)\n",
      "Exception message: Either source 20 or target 15 is not in G\n",
      "Exception message: Either source 21 or target 10 is not in G\n",
      "Exception message: Either source 18 or target 21 is not in G\n",
      "Exception message: Either source 15 or target 25 is not in G\n",
      "Exception message: Either source 4 or target 11 is not in G\n",
      "Exception message: Either source 33 or target 4 is not in G\n",
      "Exception message: Either source 0 or target 21 is not in G\n",
      "Exception message: Either source 3 or target 15 is not in G\n",
      "Exception message: Either source 15 or target 4 is not in G\n",
      "Exception message: unterminated string literal (detected at line 8) (<string>, line 8)\n",
      "Exception message: Either source 9 or target 10 is not in G\n",
      "Exception message: Either source 5 or target 31 is not in G\n",
      "Exception message: Either source 34 or target 8 is not in G\n",
      "Exception message: Either source 27 or target 8 is not in G\n",
      "Exception message: Either source 7 or target 35 is not in G\n",
      "Exception message: Either source 3 or target 18 is not in G\n",
      "Exception message: Either source 0 or target 39 is not in G\n",
      "Exception message: Either source 38 or target 43 is not in G\n",
      "Exception message: Either source 0 or target 23 is not in G\n",
      "Exception message: Either source 4 or target 26 is not in G\n",
      "Exception message: Either source 50 or target 27 is not in G\n",
      "Exception message: Either source 7 or target 12 is not in G\n",
      "Exception message: Either source 14 or target 40 is not in G\n",
      "Exception message: Either source 10 or target 45 is not in G\n",
      "Exception message: Either source 34 or target 39 is not in G\n",
      "Exception message: Either source 45 or target 29 is not in G\n",
      "Exception message: Either source 23 or target 11 is not in G\n",
      "Exception message: Either source 2 or target 51 is not in G\n",
      "Exception message: Either source 25 or target 35 is not in G\n",
      "Exception message: Either source 1 or target 20 is not in G\n",
      "Exception message: Either source 34 or target 24 is not in G\n",
      "Exception message: Either source 59 or target 16 is not in G\n",
      "Exception message: Either source 7 or target 18 is not in G\n",
      "Exception message: Either source 56 or target 27 is not in G\n",
      "Exception message: Either source 40 or target 44 is not in G\n",
      "Exception message: Either source 31 or target 1 is not in G\n",
      "Exception message: Either source 4 or target 20 is not in G\n",
      "Exception message: Either source 66 or target 49 is not in G\n",
      "Exception message: Either source 42 or target 10 is not in G\n",
      "Exception message: Either source 22 or target 5 is not in G\n",
      "Exception message: Either source 49 or target 41 is not in G\n",
      "Exception message: Either source 11 or target 7 is not in G\n",
      "Exception message: Either source 56 or target 64 is not in G\n",
      "Exception message: Either source 29 or target 1 is not in G\n",
      "Exception message: Either source 72 or target 54 is not in G\n",
      "Exception message: Either source 63 or target 10 is not in G\n",
      "Exception message: Either source 51 or target 1 is not in G\n",
      "Exception message: Either source 17 or target 4 is not in G\n",
      "Exception message: Either source 21 or target 5 is not in G\n",
      "Exception message: Either source 20 or target 40 is not in G\n",
      "Exception message: Either source 6 or target 92 is not in G\n",
      "Exception message: Either source 62 or target 72 is not in G\n",
      "Exception message: Either source 56 or target 81 is not in G\n",
      "Exception message: Either source 65 or target 45 is not in G\n",
      "Exception message: Either source 22 or target 24 is not in G\n",
      "Exception message: Either source 93 or target 31 is not in G\n",
      "Exception message: Either source 44 or target 20 is not in G\n",
      "Exception message: Either source 40 or target 31 is not in G\n",
      "Exception message: Either source 43 or target 33 is not in G\n",
      "Exception message: Either source 20 or target 17 is not in G\n",
      "Exception message: Either source 52 or target 36 is not in G\n",
      "Exception message: Either source 46 or target 19 is not in G\n",
      "Exception message: Either source 5 or target 38 is not in G\n",
      "Exception message: Either source 19 or target 53 is not in G\n",
      "Exception message: Either source 75 or target 34 is not in G\n"
     ]
    },
    {
     "name": "stderr",
     "output_type": "stream",
     "text": [
      "Traceback (most recent call last):\n",
      "  File \"/tmp/ipykernel_2284696/3825504740.py\", line 17, in <module>\n",
      "    exec(code, globals(), globals())\n",
      "  File \"<string>\", line 8\n",
      "    pattern = r\"\\((\\d+), (\\d+)\\)\n",
      "              ^\n",
      "SyntaxError: unterminated string literal (detected at line 8)\n",
      "Traceback (most recent call last):\n",
      "  File \"/tmp/ipykernel_2284696/3825504740.py\", line 17, in <module>\n",
      "    exec(code, globals(), globals())\n",
      "  File \"<string>\", line 8\n",
      "    pattern = r\"\\((\\d+), (\\d+)\\)\n",
      "              ^\n",
      "SyntaxError: unterminated string literal (detected at line 8)\n",
      "Traceback (most recent call last):\n",
      "  File \"/tmp/ipykernel_2284696/3825504740.py\", line 17, in <module>\n",
      "    exec(code, globals(), globals())\n",
      "  File \"<string>\", line 8\n",
      "    pattern = r\"\\((\\d+), (\\d+)\\)\n",
      "              ^\n",
      "SyntaxError: unterminated string literal (detected at line 8)\n"
     ]
    }
   ],
   "source": [
    "import traceback\n",
    "error_cnt = 0\n",
    "correct_cnt = 0\n",
    "for i, data in enumerate(datas):\n",
    "    text = data['code']\n",
    "    code = re.sub(r'^```python\\n|```$', '', text, flags=re.MULTILINE)\n",
    "    ans = gt[i]['answer']\n",
    "\n",
    "    # 创建一个 StringIO 对象来捕获输出\n",
    "    output = io.StringIO()\n",
    "\n",
    "    # 重定向 sys.stdout\n",
    "    old_stdout = sys.stdout\n",
    "    sys.stdout = output\n",
    "\n",
    "    try:\n",
    "        exec(code, globals(), globals())\n",
    "    except Exception as e:\n",
    "        sys.stdout = old_stdout\n",
    "        #print(f\"Error in code:\\n{code}\")\n",
    "        print(\"Exception message:\", str(e))\n",
    "        if 'Either source' in str(e):\n",
    "            correct_cnt = correct_cnt + 1\n",
    "            continue\n",
    "        traceback.print_exc()\n",
    "        error_cnt += 1\n",
    "        continue\n",
    "    finally:\n",
    "        sys.stdout = old_stdout\n",
    "    \n",
    "\n",
    "    # 获取输出内容\n",
    "    output_content = output.getvalue()\n",
    "    output_content = str(output_content).strip()\n",
    "    \n",
    "    if 'True' in output_content:\n",
    "        output_content = 'Yes'\n",
    "    elif 'False' in output_content:                               \n",
    "        output_content = 'No'\n",
    "    #print(output_content)\n",
    "    # print(\"Captured Output:\")\n",
    "    #print(output_content)\n",
    "    \n",
    "    # print(f'llm={output_content} gt={ans}')\n",
    "        \n",
    "    if output_content.strip() == str(ans).split(\"###\")[1].strip():\n",
    "        correct_cnt = correct_cnt + 1\n",
    "    else:\n",
    "        print(output_content,ans)"
   ]
  },
  {
   "cell_type": "code",
   "execution_count": 20,
   "metadata": {},
   "outputs": [
    {
     "name": "stdout",
     "output_type": "stream",
     "text": [
      "397\n",
      "3\n"
     ]
    }
   ],
   "source": [
    "print(correct_cnt)\n",
    "print(error_cnt)"
   ]
  },
  {
   "cell_type": "code",
   "execution_count": 21,
   "metadata": {},
   "outputs": [
    {
     "name": "stdout",
     "output_type": "stream",
     "text": [
      "0.9925\n"
     ]
    }
   ],
   "source": [
    "print(correct_cnt/len(datas))"
   ]
  }
 ],
 "metadata": {
  "kernelspec": {
   "display_name": "base",
   "language": "python",
   "name": "python3"
  },
  "language_info": {
   "codemirror_mode": {
    "name": "ipython",
    "version": 3
   },
   "file_extension": ".py",
   "mimetype": "text/x-python",
   "name": "python",
   "nbconvert_exporter": "python",
   "pygments_lexer": "ipython3",
   "version": "3.12.4"
  }
 },
 "nbformat": 4,
 "nbformat_minor": 2
}
