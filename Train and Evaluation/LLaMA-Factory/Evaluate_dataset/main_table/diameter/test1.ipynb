{
 "cells": [
  {
   "cell_type": "code",
   "execution_count": 1,
   "metadata": {},
   "outputs": [],
   "source": [
    "import json\n",
    "task = 'diameter'\n",
    "filename = task+'_result_v1_qwen.json'\n",
    "with open(filename, 'r', encoding='utf-8') as f:\n",
    "    datas=json.load(f)"
   ]
  },
  {
   "cell_type": "code",
   "execution_count": 2,
   "metadata": {},
   "outputs": [],
   "source": [
    "filename1 = task+'_test.json'\n",
    "with open(filename1, 'r', encoding='utf-8') as f:\n",
    "    gt=json.load(f)"
   ]
  },
  {
   "cell_type": "code",
   "execution_count": 3,
   "metadata": {},
   "outputs": [
    {
     "name": "stdout",
     "output_type": "stream",
     "text": [
      "300\n",
      "300\n",
      "{'input_prompt': 'Given an undirected graph as follows:\\nNode 2 is connected to nodes 11, 0, 1, 8, 5.\\nNode 11 is connected to nodes 2, 6, 10, 4, 7.\\nNode 0 is connected to nodes 2, 1, 9, 4, 7, 5, 10.\\nNode 1 is connected to nodes 2, 9, 3, 10, 0, 8.\\nNode 8 is connected to nodes 2, 1, 10.\\nNode 5 is connected to nodes 2, 9, 0, 4, 6, 10.\\nNode 6 is connected to nodes 11, 5, 10.\\nNode 10 is connected to nodes 11, 1, 0, 6, 8, 5.\\nNode 4 is connected to nodes 11, 3, 0, 5.\\nNode 7 is connected to nodes 11, 3, 0.\\nNode 9 is connected to nodes 1, 5, 0.\\nNode 3 is connected to nodes 1, 4, 7.\\nCalculate the diameter of the graph. The diameter is the maximum distance over all pairs of nodes in the graph.', 'answer': 3}\n"
     ]
    }
   ],
   "source": [
    "print(len(datas))\n",
    "print(len(gt))\n",
    "print(gt[0])"
   ]
  },
  {
   "cell_type": "code",
   "execution_count": 4,
   "metadata": {},
   "outputs": [],
   "source": [
    "import re\n",
    "import io\n",
    "import sys\n"
   ]
  },
  {
   "cell_type": "code",
   "execution_count": 5,
   "metadata": {},
   "outputs": [
    {
     "name": "stdout",
     "output_type": "stream",
     "text": [
      "```python\n",
      "import re\n",
      "import networkx as nx\n",
      "\n",
      "text = \"\"\"Node 5 is connected to nodes 3, 2, 4, 8, 7, 12, 10, 0.\n",
      "Node 3 is connected to nodes 5, 4, 8.\n",
      "Node 2 is connected to nodes 5, 8, 6.\n",
      "Node 4 is connected to nodes 5, 3.\n",
      "Node 8 is connected to nodes 5, 3, 2, 0, 6, 7, 9, 11, 10, 1.\n",
      "Node 7 is connected to nodes 5, 8.\n",
      "Node 12 is connected to nodes 5, 6.\n",
      "Node 10 is connected to nodes 5, 8.\n",
      "Node 0 is connected to nodes 5, 8, 11.\n",
      "Node 6 is connected to nodes 2, 8, 12.\n",
      "Node 9 is connected to nodes 8, 11.\n",
      "Node 11 is connected to nodes 8, 0, 9.\n",
      "Node 1 is connected to node 8.\"\"\"\n",
      "\n",
      "# Regular expression to extract connections\n",
      "pattern = r'Node (\\d+) is connected to nodes? ([\\d, ]+)\\.'\n",
      "matches = re.findall(pattern, text)\n",
      "\n",
      "# Create an undirected graph\n",
      "G = nx.Graph()\n",
      "\n",
      "# Add edges to the graph\n",
      "for node, neighbors in matches:\n",
      "    node = int(node)\n",
      "    neighbors = map(int, neighbors.split(', '))\n",
      "    for neighbor in neighbors:\n",
      "        G.add_edge(node, neighbor)\n",
      "\n",
      "# Calculate the diameter of the graph\n",
      "diameter = nx.diameter(G)\n",
      "print(diameter)\n",
      "```\n",
      "\n",
      "\n"
     ]
    }
   ],
   "source": [
    "print(datas[2]['code'])"
   ]
  },
  {
   "cell_type": "code",
   "execution_count": 6,
   "metadata": {},
   "outputs": [],
   "source": [
    "error_cnt = 0\n",
    "correct_cnt = 0\n",
    "for i, data in enumerate(datas):\n",
    "    text = data['code']\n",
    "    code = re.sub(r'^```python\\n|```$', '', text, flags=re.MULTILINE)\n",
    "    ans = gt[i]['answer']\n",
    "\n",
    "    # 创建一个 StringIO 对象来捕获输出\n",
    "    output = io.StringIO()\n",
    "\n",
    "    # 重定向 sys.stdout\n",
    "    old_stdout = sys.stdout\n",
    "    sys.stdout = output\n",
    "\n",
    "    try:\n",
    "        exec(code, globals(), globals())\n",
    "    except:\n",
    "        sys.stdout = old_stdout\n",
    "        print(code)\n",
    "        error_cnt = error_cnt + 1\n",
    "        continue\n",
    "    finally:\n",
    "        sys.stdout = old_stdout\n",
    "    \n",
    "\n",
    "    # 获取输出内容\n",
    "    output_content = output.getvalue()\n",
    "    output_content = str(output_content).strip()\n",
    "    # print(\"Captured Output:\")\n",
    "    #print(output_content)\n",
    "    \n",
    "    \n",
    "    # print(f'llm={output_content} gt={ans}')\n",
    "    if int(output_content) == int(ans):\n",
    "        correct_cnt = correct_cnt + 1\n",
    "    else:\n",
    "        #print(code)\n",
    "        print(output_content,ans)"
   ]
  },
  {
   "cell_type": "code",
   "execution_count": 7,
   "metadata": {},
   "outputs": [
    {
     "name": "stdout",
     "output_type": "stream",
     "text": [
      "0\n",
      "300\n"
     ]
    }
   ],
   "source": [
    "print(error_cnt)\n",
    "print(correct_cnt)"
   ]
  },
  {
   "cell_type": "code",
   "execution_count": 8,
   "metadata": {},
   "outputs": [
    {
     "name": "stdout",
     "output_type": "stream",
     "text": [
      "1.0\n"
     ]
    }
   ],
   "source": [
    "print(correct_cnt/len(datas))\n",
    "#max tokens是"
   ]
  },
  {
   "cell_type": "code",
   "execution_count": 9,
   "metadata": {},
   "outputs": [
    {
     "name": "stdout",
     "output_type": "stream",
     "text": [
      "[(6, 5), (6, 2), (6, 0), (6, 3), (6, 1), (5, 2), (5, 3), (2, 3), (2, 1), (2, 5), (0, 4), (0, 3), (0, 5), (3, 1), (3, 6), (3, 5), (3, 2), (3, 0), (3, 4), (1, 5), (4, 7), (4, 3), (4, 5), (4, 2), (7, 5), (7, 0)]\n",
      "0.6785714285714286\n"
     ]
    }
   ],
   "source": [
    "import re\n",
    "import networkx as nx\n",
    "\n",
    "# Graph description\n",
    "graph = \"\"\"Node 6 is connected to nodes 5, 2, 0, 3, 1.\n",
    "Node 5 is connected to nodes 2, 3.\n",
    "Node 2 is connected to nodes 3, 1, 5.\n",
    "Node 0 is connected to nodes 4, 3, 5.\n",
    "Node 3 is connected to nodes 1, 6, 5, 2, 0, 4.\n",
    "Node 1 is connected to node 5.\n",
    "Node 4 is connected to nodes 7, 3, 5, 2.\n",
    "Node 7 is connected to nodes 5, 0.\"\"\"\n",
    "\n",
    "# Regular expression to extract connections\n",
    "pattern = r'Node (\\d+) is connected to nodes? ([\\d, ]+)\\.'\n",
    "matches = re.findall(pattern, graph)\n",
    "\n",
    "# Create a directed graph\n",
    "G = nx.DiGraph()\n",
    "\n",
    "# Add edges to the graph\n",
    "for node, neighbors in matches:\n",
    "    node = int(node)\n",
    "    neighbors = map(int, neighbors.split(', '))\n",
    "    for neighbor in neighbors:\n",
    "        G.add_edge(node, neighbor)\n",
    "print(G.edges())\n",
    "# Calculate clustering coefficient for node 6\n",
    "node1 = 6\n",
    "print(nx.clustering(G, node1))"
   ]
  },
  {
   "cell_type": "code",
   "execution_count": 10,
   "metadata": {},
   "outputs": [
    {
     "ename": "AttributeError",
     "evalue": "module 'networkx' has no attribute 'out_degree'",
     "output_type": "error",
     "traceback": [
      "\u001b[0;31m---------------------------------------------------------------------------\u001b[0m",
      "\u001b[0;31mAttributeError\u001b[0m                            Traceback (most recent call last)",
      "Cell \u001b[0;32mIn[10], line 30\u001b[0m\n\u001b[1;32m     27\u001b[0m         G\u001b[38;5;241m.\u001b[39madd_edge(node, neighbor)\n\u001b[1;32m     29\u001b[0m \u001b[38;5;66;03m# Calculate out-degree of node 3\u001b[39;00m\n\u001b[0;32m---> 30\u001b[0m out_degree \u001b[38;5;241m=\u001b[39m nx\u001b[38;5;241m.\u001b[39mout_degree(G, node3)\n\u001b[1;32m     31\u001b[0m \u001b[38;5;28mprint\u001b[39m(out_degree)\n",
      "\u001b[0;31mAttributeError\u001b[0m: module 'networkx' has no attribute 'out_degree'"
     ]
    }
   ],
   "source": [
    "import re\n",
    "import networkx as nx\n",
    "\n",
    "# Graph description\n",
    "graph = \"\"\"Node 4 is connected to nodes 2, 5.\n",
    "Node 2 is connected to nodes 8, 5, 1.\n",
    "Node 5 is connected to nodes 3, 6.\n",
    "Node 3 is connected to nodes 0, 7, 6, 5, 4.\n",
    "Node 0 is connected to nodes 8, 4.\n",
    "Node 7 is connected to nodes 1, 2.\n",
    "Node 6 is connected to nodes 8, 5, 1.\n",
    "Node 1 is connected to node 2.\n",
    "Node 8 is connected to node 6.\"\"\"\n",
    "\n",
    "# Regular expression to extract connections\n",
    "pattern = r'Node (\\d+) is connected to nodes? ([\\d, ]+)\\.'\n",
    "matches = re.findall(pattern, graph)\n",
    "\n",
    "# Create a directed graph\n",
    "G = nx.DiGraph()\n",
    "\n",
    "# Add edges to the graph\n",
    "for node, neighbors in matches:\n",
    "    node = int(node)\n",
    "    neighbors = map(int, neighbors.split(', '))\n",
    "    for neighbor in neighbors:\n",
    "        G.add_edge(node, neighbor)\n",
    "\n",
    "# Calculate out-degree of node 3\n",
    "out_degree = nx.out_degree(G, node3)\n",
    "print(out_degree)"
   ]
  }
 ],
 "metadata": {
  "kernelspec": {
   "display_name": "base",
   "language": "python",
   "name": "python3"
  },
  "language_info": {
   "codemirror_mode": {
    "name": "ipython",
    "version": 3
   },
   "file_extension": ".py",
   "mimetype": "text/x-python",
   "name": "python",
   "nbconvert_exporter": "python",
   "pygments_lexer": "ipython3",
   "version": "3.12.4"
  }
 },
 "nbformat": 4,
 "nbformat_minor": 2
}
