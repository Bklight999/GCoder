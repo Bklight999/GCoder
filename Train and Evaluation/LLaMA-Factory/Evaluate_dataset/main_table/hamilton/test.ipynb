{
 "cells": [
  {
   "cell_type": "code",
   "execution_count": null,
   "metadata": {},
   "outputs": [],
   "source": [
    "import json\n",
    "\n",
    "with open('hamilton_result_v1_qwen.json', 'r', encoding='utf-8') as f:\n",
    "    datas=json.load(f)"
   ]
  },
  {
   "cell_type": "code",
   "execution_count": null,
   "metadata": {},
   "outputs": [],
   "source": [
    "print(len(datas))"
   ]
  },
  {
   "cell_type": "code",
   "execution_count": null,
   "metadata": {},
   "outputs": [],
   "source": [
    "def read_json(file_name):\n",
    "    # 存放所有字典的列表\n",
    "    dict_list = []\n",
    "\n",
    "    # 打开文件并逐行读取\n",
    "    with open(file_name, 'r', encoding='utf-8') as file:\n",
    "        for line in file:\n",
    "            # 去掉行末的换行符（如果有）\n",
    "            line = line.strip()\n",
    "            if line:\n",
    "                # 将每行的字符串解析为字典，并添加到列表中\n",
    "                dict_list.append(json.loads(line))\n",
    "    return dict_list\n",
    "\n",
    "gt = read_json('hamilton_test.json')"
   ]
  },
  {
   "cell_type": "code",
   "execution_count": null,
   "metadata": {},
   "outputs": [],
   "source": [
    "print(len(datas))\n",
    "print(len(gt))\n",
    "print(gt[0])"
   ]
  },
  {
   "cell_type": "code",
   "execution_count": null,
   "metadata": {},
   "outputs": [],
   "source": [
    "import re\n",
    "import io\n",
    "import sys\n"
   ]
  },
  {
   "cell_type": "code",
   "execution_count": null,
   "metadata": {},
   "outputs": [],
   "source": [
    "print(gt[0]['input_prompt'])\n",
    "print(datas[2]['code'])"
   ]
  },
  {
   "cell_type": "code",
   "execution_count": null,
   "metadata": {},
   "outputs": [],
   "source": [
    "error_cnt = 0\n",
    "correct_cnt = 0\n",
    "for i, data in enumerate(datas):\n",
    "    text = data['code']\n",
    "    code = re.sub(r'^```python\\n|```$', '', text, flags=re.MULTILINE)\n",
    "    ans = gt[i]['answer']\n",
    "\n",
    "    # 创建一个 StringIO 对象来捕获输出\n",
    "    output = io.StringIO()\n",
    "\n",
    "    # 重定向 sys.stdout\n",
    "    old_stdout = sys.stdout\n",
    "    sys.stdout = output\n",
    "\n",
    "    try:\n",
    "        exec(code, globals(), globals())\n",
    "    except:\n",
    "        sys.stdout = old_stdout\n",
    "        # print(code)\n",
    "        error_cnt = error_cnt + 1\n",
    "        continue\n",
    "    finally:\n",
    "        sys.stdout = old_stdout\n",
    "    \n",
    "\n",
    "    # 获取输出内容\n",
    "    output_content = output.getvalue()\n",
    "    output_content = str(output_content).strip()\n",
    "    # print(\"Captured Output:\")\n",
    "    # print(output_content)\n",
    "    \n",
    "    if output_content == 'True':\n",
    "        output_content = ' ### Yes'\n",
    "    elif output_content == 'False':                                 \n",
    "        output_content = ' ### No'\n",
    "    \n",
    "    # print(f'llm={output_content} gt={ans}')\n",
    "        \n",
    "    if output_content.strip() == str(ans).split(\"###\")[1].strip():\n",
    "        correct_cnt = correct_cnt + 1\n",
    "    else:\n",
    "        print(output_content,ans)\n",
    "        print(code)"
   ]
  },
  {
   "cell_type": "code",
   "execution_count": null,
   "metadata": {},
   "outputs": [],
   "source": [
    "print(error_cnt)\n",
    "print(correct_cnt)"
   ]
  },
  {
   "cell_type": "code",
   "execution_count": null,
   "metadata": {},
   "outputs": [],
   "source": [
    "print(correct_cnt/len(datas))"
   ]
  },
  {
   "cell_type": "code",
   "execution_count": null,
   "metadata": {},
   "outputs": [],
   "source": []
  },
  {
   "cell_type": "code",
   "execution_count": null,
   "metadata": {},
   "outputs": [],
   "source": []
  }
 ],
 "metadata": {
  "kernelspec": {
   "display_name": "Python 3 (ipykernel)",
   "language": "python",
   "name": "python3"
  },
  "language_info": {
   "codemirror_mode": {
    "name": "ipython",
    "version": 3
   },
   "file_extension": ".py",
   "mimetype": "text/x-python",
   "name": "python",
   "nbconvert_exporter": "python",
   "pygments_lexer": "ipython3",
   "version": "3.12.4"
  }
 },
 "nbformat": 4,
 "nbformat_minor": 4
}
