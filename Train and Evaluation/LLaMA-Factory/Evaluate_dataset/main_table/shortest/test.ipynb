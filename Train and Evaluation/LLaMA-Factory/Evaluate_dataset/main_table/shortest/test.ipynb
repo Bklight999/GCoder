{
 "cells": [
  {
   "cell_type": "code",
   "execution_count": 1,
   "metadata": {},
   "outputs": [],
   "source": [
    "import json\n",
    "\n",
    "with open('shortest_result.json', 'r', encoding='utf-8') as f:\n",
    "    datas=json.load(f)"
   ]
  },
  {
   "cell_type": "code",
   "execution_count": 2,
   "metadata": {},
   "outputs": [],
   "source": [
    "def read_json(file_name):\n",
    "    # 存放所有字典的列表\n",
    "    dict_list = []\n",
    "\n",
    "    # 打开文件并逐行读取\n",
    "    with open(file_name, 'r', encoding='utf-8') as file:\n",
    "        for line in file:\n",
    "            # 去掉行末的换行符（如果有）\n",
    "            line = line.strip()\n",
    "            if line:\n",
    "                # 将每行的字符串解析为字典，并添加到列表中\n",
    "                dict_list.append(json.loads(line))\n",
    "    return dict_list\n",
    "\n",
    "gt = read_json('shortest_test.json')"
   ]
  },
  {
   "cell_type": "code",
   "execution_count": 3,
   "metadata": {},
   "outputs": [
    {
     "name": "stdout",
     "output_type": "stream",
     "text": [
      "400\n",
      "400\n",
      "{'index': 0, 'input_prompt': 'Find the shortest path between two nodes in an undirected graph. In an undirected graph, (i,j,k) means that node i and node j are connected with an undirected edge with weight k. Given a graph and a pair of nodes, you need to output the shortest path between the two nodes. Q: The nodes are numbered from 0 to 4, and the edges are: (1,4,1) (2,3,6) (3,4,9). Give the weight of the shortest path from node 1 to node 2.', 'answer': '### 16', 'node_range': [2, 20], 'edge_range': [0, 95]}\n"
     ]
    }
   ],
   "source": [
    "print(len(datas))\n",
    "print(len(gt))\n",
    "print(gt[0])"
   ]
  },
  {
   "cell_type": "code",
   "execution_count": 4,
   "metadata": {},
   "outputs": [],
   "source": [
    "import re\n",
    "import io\n",
    "import sys\n"
   ]
  },
  {
   "cell_type": "code",
   "execution_count": 5,
   "metadata": {},
   "outputs": [
    {
     "name": "stdout",
     "output_type": "stream",
     "text": [
      "Find the shortest path between two nodes in an undirected graph. In an undirected graph, (i,j,k) means that node i and node j are connected with an undirected edge with weight k. Given a graph and a pair of nodes, you need to output the shortest path between the two nodes. Q: The nodes are numbered from 0 to 51, and the edges are: (0,3,9) (0,5,5) (0,19,1) (1,45,6) (1,42,7) (1,3,6) (2,13,5) (2,50,7) (2,11,9) (2,25,3) (2,39,1) (2,38,8) (3,7,5) (4,43,9) (4,45,7) (4,49,2) (5,10,5) (5,26,6) (5,41,6) (5,38,2) (6,34,4) (6,12,10) (6,47,4) (7,36,10) (7,39,5) (8,27,8) (9,46,5) (9,12,2) (10,18,3) (10,39,9) (10,33,8) (11,16,4) (12,44,8) (12,50,2) (12,24,10) (12,17,1) (13,20,9) (13,25,9) (13,24,1) (14,26,8) (15,34,1) (15,17,10) (15,24,10) (16,23,2) (16,44,4) (17,28,7) (17,42,1) (18,45,4) (19,22,9) (19,32,4) (19,26,7) (19,21,6) (19,31,4) (20,26,5) (20,29,6) (22,34,6) (22,27,9) (23,36,10) (23,29,6) (23,25,5) (24,40,7) (24,27,3) (25,50,2) (26,40,1) (27,48,8) (27,43,2) (28,29,2) (29,40,2) (30,34,8) (32,51,2) (32,50,9) (32,46,7) (34,35,2) (34,36,7) (35,37,5) (35,50,4) (36,49,10) (36,38,10) (37,46,3) (39,47,8) (41,51,7) (43,51,6) (43,45,5). Give the weight of the shortest path from node 33 to node 23.\n",
      "```python\n",
      "import re\n",
      "import networkx as nx\n",
      "\n",
      "# Graph description\n",
      "graph = \"The nodes are numbered from 0 to 51, and the edges are: (0,3,9) (0,5,5) (0,19,1) (1,45,6) (1,42,7) (1,3,6) (2,13,5) (2,50,7) (2,11,9) (2,25,3) (2,39,1) (2,38,8) (3,7,5) (4,43,9) (4,45,7) (4,49,2) (5,10,5) (5,26,6) (5,41,6) (5,38,2) (6,34,4) (6,12,10) (6,47,4) (7,36,10) (7,39,5) (8,27,8) (9,46,5) (9,12,2) (10,18,3) (10,39,9) (10,33,8) (11,16,4) (12,44,8) (12,50,2) (12,24,10) (12,17,1) (13,20,9) (13,25,9) (13,24,1) (14,26,8) (15,34,1) (15,17,10) (15,24,10) (16,23,2) (16,44,4) (17,28,7) (17,42,1) (18,45,4) (19,22,9) (19,32,4) (19,26,7) (19,21,6) (19,31,4) (20,26,5) (20,29,6) (22,34,6) (22,27,9) (23,36,10) (23,29,6) (23,25,5) (24,40,7) (24,27,3) (25,50,2) (26,40,1) (27,48,8) (27,43,2) (28,29,2) (29,40,2) (30,34,8) (32,51,2) (32,50,9) (32,46,7) (34,35,2) (34,36,7) (35,37,5) (35,50,4) (36,49,10) (36,38,10) (37,46,3) (39,47,8) (41,51,7) (43,51,6) (43,45,5).\"\n",
      "\n",
      "# Regular expression to extract edges with weights\n",
      "pattern = r'\\((\\d+),(\\d+),(\\d+)\\)'\n",
      "matches = re.findall(pattern, graph)\n",
      "\n",
      "# Create an undirected graph\n",
      "G = nx.Graph()\n",
      "\n",
      "# Add edges with weights to the graph\n",
      "for node1, node2, weight in matches:\n",
      "    G.add_edge(int(node1), int(node2), weight=int(weight))\n",
      "\n",
      "# Calculate the shortest path from node 33 to node 23\n",
      "shortest_path_length = nx.shortest_path_length(G, source=33, target=23, weight='weight')\n",
      "print(shortest_path_length)\n",
      "```\n",
      "### 26\n"
     ]
    }
   ],
   "source": [
    "id = 180\n",
    "print(gt[id]['input_prompt'])\n",
    "print(datas[id]['code'])\n",
    "print(gt[id]['answer'])"
   ]
  },
  {
   "cell_type": "code",
   "execution_count": 6,
   "metadata": {},
   "outputs": [
    {
     "name": "stdout",
     "output_type": "stream",
     "text": [
      "3\n"
     ]
    }
   ],
   "source": [
    "import networkx as nx\n",
    "\n",
    "# Create an undirected graph\n",
    "G = nx.Graph()\n",
    "\n",
    "# Add edges with weights\n",
    "edges = [\n",
    "    (0, 15, 10), (0, 3, 2), (0, 2, 2), (0, 10, 1), (0, 13, 5), (0, 9, 5),\n",
    "    (1, 5, 10), (1, 4, 4), (1, 9, 2), (1, 7, 2), (1, 14, 9), (1, 3, 1), (1, 12, 4), (1, 10, 7),\n",
    "    (2, 3, 6), (2, 15, 2), (2, 7, 1), (2, 4, 4), (2, 10, 7),\n",
    "    (3, 11, 10), (3, 14, 8), (3, 12, 4), (3, 10, 3), (3, 4, 7),\n",
    "    (4, 11, 4), (4, 6, 2), (4, 5, 4), (4, 15, 3), (4, 12, 6),\n",
    "    (5, 13, 2), (5, 7, 3), (5, 10, 4), (5, 12, 7), (5, 8, 3),\n",
    "    (6, 15, 10), (6, 10, 6), (6, 9, 6), (6, 13, 2),\n",
    "    (7, 9, 5), (7, 13, 5), (7, 11, 3), (7, 12, 2),\n",
    "    (8, 12, 6), (8, 13, 4), (8, 14, 3),\n",
    "    (9, 13, 3), (9, 11, 8), (9, 12, 2), (9, 10, 10), (9, 14, 2),\n",
    "    (10, 13, 6), (10, 11, 7),\n",
    "    (11, 15, 10), (11, 13, 6), (11, 14, 4),\n",
    "    (12, 13, 2), (12, 14, 6), (12, 15, 5),\n",
    "    (13, 15, 9)\n",
    "]\n",
    "\n",
    "G.add_weighted_edges_from(edges)\n",
    "\n",
    "# Find the shortest path from node 12 to node 2\n",
    "shortest_path = nx.shortest_path(G, source=12, target=2, weight='weight')\n",
    "\n",
    "# Output the weight of the shortest path\n",
    "print(nx.shortest_path_length(G, source=12, target=2, weight='weight'))"
   ]
  },
  {
   "cell_type": "code",
   "execution_count": 7,
   "metadata": {},
   "outputs": [],
   "source": [
    "error_cnt = 0\n",
    "correct_cnt = 0\n",
    "for i, data in enumerate(datas):\n",
    "    text = data['code']\n",
    "    code = re.sub(r'^```python\\n|```$', '', text, flags=re.MULTILINE)\n",
    "    ans = gt[i]['answer']\n",
    "\n",
    "    output = io.StringIO()\n",
    "\n",
    "    old_stdout = sys.stdout\n",
    "    sys.stdout = output\n",
    "\n",
    "    try:\n",
    "        exec(code, globals(), globals())\n",
    "    except:\n",
    "        sys.stdout = old_stdout\n",
    "        print(code)\n",
    "        error_cnt = error_cnt + 1\n",
    "        continue\n",
    "    finally:\n",
    "        sys.stdout = old_stdout\n",
    "    \n",
    "\n",
    "    output_content = output.getvalue()\n",
    "    output_content = str(output_content).strip()\n",
    "    # print(\"Captured Output:\")\n",
    "    # print(output_content)\n",
    "    \n",
    "    if \"the shortest path:\" in output_content:\n",
    "        output_content = output_content.split(\"the shortest path:\")[1].strip()\n",
    "    \n",
    "    \n",
    "    # print(f'llm={output_content} gt={ans}')\n",
    "        \n",
    "    if output_content.strip() == str(ans).split('###')[1].strip():\n",
    "        correct_cnt = correct_cnt + 1\n",
    "    else:\n",
    "        print(output_content,ans)"
   ]
  },
  {
   "cell_type": "code",
   "execution_count": 8,
   "metadata": {},
   "outputs": [
    {
     "name": "stdout",
     "output_type": "stream",
     "text": [
      "0\n",
      "400\n",
      "1.0\n"
     ]
    }
   ],
   "source": [
    "print(error_cnt)\n",
    "print(correct_cnt)\n",
    "print(correct_cnt/len(datas))"
   ]
  },
  {
   "cell_type": "code",
   "execution_count": null,
   "metadata": {},
   "outputs": [],
   "source": []
  }
 ],
 "metadata": {
  "kernelspec": {
   "display_name": "Python 3 (ipykernel)",
   "language": "python",
   "name": "python3"
  },
  "language_info": {
   "codemirror_mode": {
    "name": "ipython",
    "version": 3
   },
   "file_extension": ".py",
   "mimetype": "text/x-python",
   "name": "python",
   "nbconvert_exporter": "python",
   "pygments_lexer": "ipython3",
   "version": "3.12.4"
  }
 },
 "nbformat": 4,
 "nbformat_minor": 4
}
